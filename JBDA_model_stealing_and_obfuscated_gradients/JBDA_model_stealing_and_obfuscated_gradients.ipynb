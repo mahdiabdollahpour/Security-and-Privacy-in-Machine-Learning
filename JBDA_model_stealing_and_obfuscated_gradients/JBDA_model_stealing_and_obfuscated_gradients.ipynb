{
 "cells": [
  {
   "cell_type": "code",
   "execution_count": 1,
   "metadata": {
    "id": "_1bP-zGdmENw"
   },
   "outputs": [],
   "source": [
    "# from model import Net\n",
    "import torch\n",
    "import torchvision\n",
    "import pandas as pd\n",
    "import numpy as np\n",
    "import torch.backends.cudnn as cudnn\n",
    "import torch.nn as nn\n",
    "import torch.optim as optim"
   ]
  },
  {
   "cell_type": "code",
   "execution_count": 3,
   "metadata": {
    "id": "L7kfqOcZmUCF"
   },
   "outputs": [],
   "source": [
    "import torch\n",
    "import torch.nn as nn\n",
    "import torch.nn.functional as F\n",
    "\n",
    "class Net(nn.Module):\n",
    "  def __init__(self):\n",
    "    super(Net, self).__init__()\n",
    "    self.conv1 = nn.Conv2d(1, 16, 3, 1)\n",
    "    self.conv2 = nn.Conv2d(16, 32, 3, 1)\n",
    "    self.dropout1 = nn.Dropout2d(0.25)\n",
    "    self.dropout2 = nn.Dropout2d(0.5)\n",
    "    self.fc1 = nn.Linear(4608, 64)\n",
    "    self.fc2 = nn.Linear(64, 10)\n",
    "\n",
    "  def forward(self, x):\n",
    "    x = self.conv1(x)\n",
    "    x = F.relu(x)\n",
    "    x = self.conv2(x)\n",
    "    x = F.relu(x)\n",
    "    x = F.max_pool2d(x, 2)\n",
    "    x = self.dropout1(x)\n",
    "    x = torch.flatten(x, 1)\n",
    "    x = self.fc1(x)\n",
    "    x = F.relu(x)\n",
    "    x = self.dropout2(x)\n",
    "    x = self.fc2(x)\n",
    "    return x"
   ]
  },
  {
   "cell_type": "code",
   "execution_count": 4,
   "metadata": {
    "id": "PDNnzfSmoZUN"
   },
   "outputs": [],
   "source": [
    "device = 'cuda' if torch.cuda.is_available() else 'cpu'"
   ]
  },
  {
   "cell_type": "code",
   "execution_count": 4,
   "metadata": {
    "colab": {
     "base_uri": "https://localhost:8080/"
    },
    "id": "ptiVxqQwml3O",
    "outputId": "74e0fc00-f5e1-405a-819a-a9941ceec19f"
   },
   "outputs": [
    {
     "name": "stdout",
     "output_type": "stream",
     "text": [
      "Mounted at /content/drive\n"
     ]
    }
   ],
   "source": [
    "from google.colab import drive\n",
    "drive.mount('/content/drive')"
   ]
  },
  {
   "cell_type": "markdown",
   "metadata": {
    "id": "O5GpPa8pqdkx"
   },
   "source": [
    "# Load model"
   ]
  },
  {
   "cell_type": "code",
   "execution_count": 5,
   "metadata": {
    "id": "aUFD1Wn1mX4y"
   },
   "outputs": [],
   "source": [
    "model = Net()\n",
    "checkpoint = torch.load('/content/drive/MyDrive/model.pth')\n",
    "\n",
    "model.load_state_dict(checkpoint)\n",
    "model = model.to(device)\n",
    "model.eval()\n",
    "if device == 'cuda':\n",
    "    model = torch.nn.DataParallel(model)\n",
    "    cudnn.benchmark = True\n",
    "lr = 0.01\n",
    "criterion = nn.CrossEntropyLoss()\n",
    "optimizer = optim.SGD(model.parameters(), lr=lr,\n",
    "                      momentum=0.9, weight_decay=5e-4)\n",
    "scheduler = torch.optim.lr_scheduler.CosineAnnealingLR(optimizer, T_max=200)"
   ]
  },
  {
   "cell_type": "code",
   "execution_count": 6,
   "metadata": {
    "id": "34Cwm8HmoLRT"
   },
   "outputs": [],
   "source": [
    "batch_size_test = 1000\n",
    "test_loader = torch.utils.data.DataLoader(\n",
    "  torchvision.datasets.MNIST('/files/', train=False, download=True,\n",
    "                             transform=torchvision.transforms.Compose([\n",
    "                               torchvision.transforms.ToTensor(),\n",
    "                               torchvision.transforms.Normalize(\n",
    "                                 (0.1307,), (0.3081,))\n",
    "                             ])),\n",
    "  batch_size=batch_size_test, shuffle=True)\n",
    "\n",
    "dataiter = iter(test_loader)\n",
    "org_images, org_labels = dataiter.next()\n",
    "\n",
    "org_labels = org_labels.to(device)\n",
    "org_images = org_images.to(device)\n",
    "outputs= model(org_images)\n",
    "_, predicted = torch.max(outputs.data, 1)\n"
   ]
  },
  {
   "cell_type": "markdown",
   "metadata": {
    "id": "AluU77Hzd-aW"
   },
   "source": [
    "## Accuracy of Model of MNISt Test set"
   ]
  },
  {
   "cell_type": "code",
   "execution_count": 7,
   "metadata": {
    "colab": {
     "base_uri": "https://localhost:8080/"
    },
    "id": "QPrUrrryoqZ5",
    "outputId": "c1c3b623-2453-4381-b6b0-dab976204b2b"
   },
   "outputs": [
    {
     "data": {
      "text/plain": [
       "0.926"
      ]
     },
     "execution_count": 7,
     "metadata": {
      "tags": []
     },
     "output_type": "execute_result"
    }
   ],
   "source": [
    "from sklearn.metrics import accuracy_score\n",
    "accuracy_score(org_labels.cpu(),predicted.cpu())"
   ]
  },
  {
   "cell_type": "markdown",
   "metadata": {
    "id": "UxWSUCMUpWwg"
   },
   "source": [
    "# FGSM"
   ]
  },
  {
   "cell_type": "code",
   "execution_count": 8,
   "metadata": {
    "id": "W1-3h3irpGfI"
   },
   "outputs": [],
   "source": [
    "def fgsm(x,targets,net,epsilon):\n",
    "    # Collect the element-wise sign of the data gradient\n",
    "    x.requires_grad = True\n",
    "    \n",
    "    outputs= net(x)\n",
    "    net.zero_grad()\n",
    "    loss = criterion(outputs, targets)\n",
    "    loss.backward()\n",
    "    data_grad = x.grad.data\n",
    "    sign_data_grad = data_grad.sign()\n",
    "    perturbation = epsilon*sign_data_grad\n",
    "    perturbed_image = x + perturbation\n",
    "    outputs= net(perturbed_image)\n",
    "    return perturbed_image,perturbation,outputs"
   ]
  },
  {
   "cell_type": "code",
   "execution_count": 9,
   "metadata": {
    "id": "xHD__anmplVB"
   },
   "outputs": [],
   "source": [
    "\n",
    "accs = []\n",
    "\n",
    "for step in range(1,11):\n",
    "  eps = step/10\n",
    "  perturbed_images,perturbation,outputs = fgsm(org_images.clone(),org_labels,model,eps)\n",
    "  _, predicted = torch.max(outputs.data, 1)  \n",
    "  acc = accuracy_score(org_labels.cpu(),predicted.cpu())\n",
    "\n",
    "  accs.append(acc)"
   ]
  },
  {
   "cell_type": "markdown",
   "metadata": {
    "id": "yGJfPiAqeJNG"
   },
   "source": [
    "## Accuracy of Model of Perturbated samples with model's own gradient"
   ]
  },
  {
   "cell_type": "code",
   "execution_count": 10,
   "metadata": {
    "colab": {
     "base_uri": "https://localhost:8080/",
     "height": 265
    },
    "id": "VA30R91Yqzgx",
    "outputId": "b33a74c7-539f-4079-8a9a-ea8baf690555"
   },
   "outputs": [
    {
     "data": {
      "image/png": "[encoded data removed]",
      "text/plain": [
       "<Figure size 432x288 with 1 Axes>"
      ]
     },
     "metadata": {
      "needs_background": "light",
      "tags": []
     },
     "output_type": "display_data"
    }
   ],
   "source": [
    "import matplotlib.pyplot as plt\n",
    "plt.plot(list(range(1,11)),accs)\n",
    "# plt.ylabel('some numbers')\n",
    "plt.show()"
   ]
  },
  {
   "cell_type": "code",
   "execution_count": 11,
   "metadata": {
    "colab": {
     "base_uri": "https://localhost:8080/"
    },
    "id": "rAb5jZnwvnpo",
    "outputId": "9c7a87d5-a756-4c48-de67-856fe9679cfc"
   },
   "outputs": [
    {
     "data": {
      "text/plain": [
       "[0.913, 0.913, 0.913, 0.913, 0.913, 0.913, 0.913, 0.913, 0.913, 0.913]"
      ]
     },
     "execution_count": 11,
     "metadata": {
      "tags": []
     },
     "output_type": "execute_result"
    }
   ],
   "source": [
    "accs"
   ]
  },
  {
   "cell_type": "markdown",
   "metadata": {
    "id": "8TYOzO1ewE7m"
   },
   "source": [
    "# JBDA"
   ]
  },
  {
   "cell_type": "code",
   "execution_count": 12,
   "metadata": {
    "colab": {
     "base_uri": "https://localhost:8080/"
    },
    "id": "VgF8h2muxGF2",
    "outputId": "893f8ff0-78ce-4b94-8ee8-18791e0aae8a"
   },
   "outputs": [
    {
     "name": "stdout",
     "output_type": "stream",
     "text": [
      "Test Accuracy: 0.1\n",
      "Test Accuracy: 0.117\n",
      "Test Accuracy: 0.153\n",
      "Test Accuracy: 0.188\n",
      "Test Accuracy: 0.208\n",
      "Test Accuracy: 0.233\n",
      "Test Accuracy: 0.242\n",
      "Test Accuracy: 0.276\n",
      "Test Accuracy: 0.281\n",
      "Test Accuracy: 0.29\n",
      "Test Accuracy: 0.316\n",
      "Test Accuracy: 0.357\n",
      "Test Accuracy: 0.395\n",
      "Test Accuracy: 0.415\n",
      "Test Accuracy: 0.458\n",
      "Test Accuracy: 0.502\n",
      "Test Accuracy: 0.545\n",
      "Test Accuracy: 0.553\n",
      "Test Accuracy: 0.559\n",
      "Test Accuracy: 0.612\n",
      "Test Accuracy: 0.617\n",
      "Test Accuracy: 0.602\n",
      "Test Accuracy: 0.626\n",
      "Test Accuracy: 0.635\n",
      "Test Accuracy: 0.667\n",
      "Test Accuracy: 0.674\n",
      "Test Accuracy: 0.676\n",
      "Test Accuracy: 0.693\n",
      "Test Accuracy: 0.681\n",
      "Test Accuracy: 0.71\n",
      "Test Accuracy: 0.692\n",
      "Test Accuracy: 0.713\n",
      "Test Accuracy: 0.717\n",
      "Test Accuracy: 0.725\n",
      "Test Accuracy: 0.717\n",
      "Test Accuracy: 0.724\n",
      "Test Accuracy: 0.732\n",
      "Test Accuracy: 0.735\n",
      "Test Accuracy: 0.742\n",
      "Test Accuracy: 0.747\n",
      "Test Accuracy: 0.736\n",
      "Test Accuracy: 0.746\n",
      "Test Accuracy: 0.742\n",
      "Test Accuracy: 0.743\n",
      "Test Accuracy: 0.742\n",
      "Test Accuracy: 0.736\n",
      "Test Accuracy: 0.754\n",
      "Test Accuracy: 0.744\n",
      "Test Accuracy: 0.769\n",
      "Test Accuracy: 0.742\n"
     ]
    }
   ],
   "source": [
    "import math\n",
    "\n",
    "\n",
    "s_model = Net()\n",
    "s_model = s_model.to(device)\n",
    "s_model.eval()\n",
    "if device == 'cuda':\n",
    "    s_model = torch.nn.DataParallel(s_model)\n",
    "    cudnn.benchmark = True\n",
    "lr = 0.01\n",
    "criterion = nn.CrossEntropyLoss()\n",
    "s_optimizer = optim.SGD(s_model.parameters(), lr=lr,\n",
    "                      momentum=0.9, weight_decay=5e-4)\n",
    "s_scheduler = torch.optim.lr_scheduler.CosineAnnealingLR(s_optimizer, T_max=200)\n",
    "\n",
    "train_x = org_images[:150,:,:,:].clone()\n",
    "train_y =  org_labels[:150].clone()\n",
    "s_model.train()\n",
    "epochs = 50\n",
    "lambd = 0.1\n",
    "thaw = 8\n",
    "# s_optimizer.zero_grad()\n",
    "for i in range(epochs):\n",
    "  \n",
    "  # Train\n",
    "  s_optimizer.zero_grad()\n",
    "  out  = s_model(train_x)\n",
    "  loss = criterion(out, train_y)\n",
    "  loss.backward()\n",
    "  s_optimizer.step()\n",
    " \n",
    "  # Augment\n",
    "  with torch.no_grad(): \n",
    "    outputs= s_model(train_x)\n",
    "  _, predicted = torch.max(outputs.data, 1)\n",
    "  eps = lambd *  pow(-1, math.floor((i+1)/thaw))\n",
    "  perturbed_images,perturbation,outputs = fgsm(train_x,predicted,s_model,eps)\n",
    "\n",
    "  # sample\n",
    "  indices = torch.randperm(len(perturbed_images))[:min(500,len(perturbed_images))]\n",
    "  perturbed_images = perturbed_images[indices]\n",
    "\n",
    "  with torch.no_grad(): \n",
    "    # Query\n",
    "    perturbed_output = model(perturbed_images)\n",
    "    _, perturbed_images_y = torch.max(perturbed_output.data, 1)\n",
    "\n",
    "    # Union\n",
    "    train_x = torch.cat((train_x,perturbed_images.clone()),dim=0)\n",
    "    train_y = torch.cat((train_y,perturbed_images_y.clone()),dim=0)\n",
    "    # train_x_ = train_x.clone().detach()\n",
    "    # train_x = train_x_\n",
    "    torch.cuda.empty_cache()\n",
    "    del perturbed_images_y,perturbed_output,perturbed_images\n",
    "\n",
    "    # Eval\n",
    "    outputs= s_model(org_images)\n",
    "    _, predicted = torch.max(outputs.data, 1)\n",
    "    acc = accuracy_score(org_labels.cpu(),predicted.cpu())\n",
    "    print('Test Accuracy:',acc)\n",
    "    del outputs, predicted\n",
    "    \n"
   ]
  },
  {
   "cell_type": "markdown",
   "metadata": {
    "id": "wgDeUYIOeTud"
   },
   "source": [
    "## Approximated Model has Acc of 74.2%"
   ]
  },
  {
   "cell_type": "markdown",
   "metadata": {
    "id": "0hKlgd1S0G4W"
   },
   "source": [
    "# FGSM on substitute "
   ]
  },
  {
   "cell_type": "code",
   "execution_count": 19,
   "metadata": {
    "id": "_TLQC3B5yza4"
   },
   "outputs": [],
   "source": [
    "accs = []\n",
    "for step in range(1,11):\n",
    "  eps = step/10\n",
    "  perturbed_images,perturbation,outputs = fgsm(org_images,org_labels,s_model,eps)\n",
    "  outputs = model(perturbed_images)\n",
    "  _, predicted = torch.max(outputs.data, 1)  \n",
    "  acc = accuracy_score(org_labels.cpu(),predicted.cpu())\n",
    "\n",
    "  accs.append(acc)"
   ]
  },
  {
   "cell_type": "markdown",
   "metadata": {
    "id": "lAfKPFBOeZWU"
   },
   "source": [
    "## Acc of Model on Perturbated samples with Approximated Model's gradients"
   ]
  },
  {
   "cell_type": "code",
   "execution_count": 20,
   "metadata": {
    "colab": {
     "base_uri": "https://localhost:8080/",
     "height": 265
    },
    "id": "x0sXZuni0OZM",
    "outputId": "2dffc5fe-f122-4a8c-fda4-fe9f26f2ce7d"
   },
   "outputs": [
    {
     "data": {
      "image/png": "[encoded data removed]",
      "text/plain": [
       "<Figure size 432x288 with 1 Axes>"
      ]
     },
     "metadata": {
      "needs_background": "light",
      "tags": []
     },
     "output_type": "display_data"
    }
   ],
   "source": [
    "import matplotlib.pyplot as plt\n",
    "plt.plot(list(range(1,11)),accs)\n",
    "# plt.ylabel('some numbers')\n",
    "plt.show()"
   ]
  },
  {
   "cell_type": "code",
   "execution_count": 21,
   "metadata": {
    "colab": {
     "base_uri": "https://localhost:8080/"
    },
    "id": "C97JtzKogEMs",
    "outputId": "a84b10c8-929b-4723-f662-d63ebd89a67c"
   },
   "outputs": [
    {
     "data": {
      "text/plain": [
       "[0.884, 0.82, 0.756, 0.672, 0.575, 0.47, 0.389, 0.305, 0.225, 0.172]"
      ]
     },
     "execution_count": 21,
     "metadata": {
      "tags": []
     },
     "output_type": "execute_result"
    }
   ],
   "source": [
    "accs"
   ]
  },
  {
   "cell_type": "markdown",
   "metadata": {
    "id": "_O8_A-jXgfaU"
   },
   "source": [
    "# Conclusion \n",
    "\n",
    "## Obfuscatd gradients give Fasle Sense of robusness"
   ]
  },
  {
   "cell_type": "code",
   "execution_count": null,
   "metadata": {},
   "outputs": [],
   "source": [
    "##"
   ]
  }
 ],
 "metadata": {
  "accelerator": "GPU",
  "colab": {
   "collapsed_sections": [],
   "name": "MLSec_HW4_Q4_completed.ipynb",
   "provenance": [],
   "toc_visible": true
  },
  "kernelspec": {
   "display_name": "Python 3",
   "language": "python",
   "name": "python3"
  },
  "language_info": {
   "codemirror_mode": {
    "name": "ipython",
    "version": 3
   },
   "file_extension": ".py",
   "mimetype": "text/x-python",
   "name": "python",
   "nbconvert_exporter": "python",
   "pygments_lexer": "ipython3",
   "version": "3.7.6"
  }
 },
 "nbformat": 4,
 "nbformat_minor": 1
}
