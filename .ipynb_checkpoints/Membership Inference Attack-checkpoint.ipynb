{
 "cells": [
  {
   "cell_type": "code",
   "execution_count": null,
   "metadata": {
    "colab": {
     "base_uri": "https://localhost:8080/"
    },
    "id": "Xr0H8zNjfJfc",
    "outputId": "041d1505-3dcb-457a-e834-0b6732827ac4"
   },
   "outputs": [
    {
     "name": "stdout",
     "output_type": "stream",
     "text": [
      "Mounted at /content/drive\n"
     ]
    }
   ],
   "source": [
    "from google.colab import drive\n",
    "drive.mount('/content/drive')"
   ]
  },
  {
   "cell_type": "code",
   "execution_count": null,
   "metadata": {
    "colab": {
     "base_uri": "https://localhost:8080/"
    },
    "id": "t-wMO7cyfX4q",
    "outputId": "f390579e-a6bc-4319-eacf-0f541ebe0409"
   },
   "outputs": [
    {
     "name": "stdout",
     "output_type": "stream",
     "text": [
      "/content/drive/MyDrive\n"
     ]
    }
   ],
   "source": [
    "# cd to where you put resnet.py\n",
    "%cd /content/drive/MyDrive"
   ]
  },
  {
   "cell_type": "code",
   "execution_count": null,
   "metadata": {
    "id": "rj2GeBp7fZQ0"
   },
   "outputs": [],
   "source": [
    "import torch\n",
    "import torch.nn as nn\n",
    "import torch.optim as optim\n",
    "import torch.nn.functional as F\n",
    "import torch.backends.cudnn as cudnn\n",
    "\n",
    "import torchvision\n",
    "import torchvision.transforms as transforms\n",
    "\n",
    "import os\n",
    "import argparse\n",
    "import matplotlib.pyplot as plt\n",
    "import numpy as np\n",
    "\n",
    "from resnet import *\n"
   ]
  },
  {
   "cell_type": "code",
   "execution_count": null,
   "metadata": {
    "id": "lN7hB08FfcGb"
   },
   "outputs": [],
   "source": [
    "device = 'cuda' if torch.cuda.is_available() else 'cpu'\n",
    "lr = 0.1"
   ]
  },
  {
   "cell_type": "code",
   "execution_count": null,
   "metadata": {
    "colab": {
     "base_uri": "https://localhost:8080/"
    },
    "id": "CAsa3sR5sTRr",
    "outputId": "476ade73-dd0c-47aa-a7f5-964612680c94"
   },
   "outputs": [
    {
     "data": {
      "text/plain": [
       "torch.Size([14000, 3, 32, 32])"
      ]
     },
     "execution_count": 36,
     "metadata": {
      "tags": []
     },
     "output_type": "execute_result"
    }
   ],
   "source": [
    "# torch.tensor(target_trainset_x).permute(0,3,1,2).shape"
   ]
  },
  {
   "cell_type": "markdown",
   "metadata": {
    "id": "d6nk4qxrWbIP"
   },
   "source": [
    "# Prepare Data"
   ]
  },
  {
   "cell_type": "code",
   "execution_count": null,
   "metadata": {
    "colab": {
     "base_uri": "https://localhost:8080/"
    },
    "id": "C9jMLbwKfdjT",
    "outputId": "05a4a2d6-8c35-46d4-e66c-2daf4f053570"
   },
   "outputs": [
    {
     "name": "stdout",
     "output_type": "stream",
     "text": [
      "==> Preparing data..\n",
      "Files already downloaded and verified\n",
      "Files already downloaded and verified\n"
     ]
    }
   ],
   "source": [
    "from torch.utils.data import Dataset, TensorDataset\n",
    "print('==> Preparing data..')\n",
    "transform_train = transforms.Compose([\n",
    "    transforms.RandomCrop(32, padding=4),\n",
    "    transforms.RandomHorizontalFlip(),\n",
    "    transforms.ToTensor(),\n",
    "    transforms.Normalize((0.4914, 0.4822, 0.4465), (0.2023, 0.1994, 0.2010)),\n",
    "])\n",
    "\n",
    "transform_test = transforms.Compose([\n",
    "    transforms.ToTensor(),\n",
    "    transforms.Normalize((0.4914, 0.4822, 0.4465), (0.2023, 0.1994, 0.2010)),\n",
    "])\n",
    "\n",
    "trainset = torchvision.datasets.CIFAR10(\n",
    "    root='./data', train=True, download=True, transform=transform_train)\n",
    "\n",
    "target_trainset_x = trainset.data[:14000]\n",
    "target_tarinset_y = trainset.targets[:14000]\n",
    "target_tarinset = TensorDataset(torch.tensor(target_trainset_x,dtype=torch.float).permute(0,3,1,2),torch.tensor(target_tarinset_y))\n",
    "target_trainloader = torch.utils.data.DataLoader(target_tarinset, batch_size=128, shuffle=True, num_workers=2)\n",
    "\n",
    "shadow1_trainset_x = trainset.data[14000:23000]\n",
    "shadow1_tarinset_y = trainset.targets[14000:23000]\n",
    "\n",
    "shadow1_tarinset = TensorDataset(torch.tensor(shadow1_trainset_x,dtype=torch.float).permute(0,3,1,2),torch.tensor(shadow1_tarinset_y))\n",
    "shadow1_trainloader = torch.utils.data.DataLoader(\n",
    "    shadow1_tarinset, batch_size=128, shuffle=True, num_workers=2)\n",
    "\n",
    "shadow1_testset_x = trainset.data[23000:32000]\n",
    "shadow1_testset_y = trainset.targets[23000:32000]\n",
    "shadow1_testset_x = torch.tensor(shadow1_testset_x,device=device,dtype=torch.float).permute(0,3,1,2)\n",
    "shadow1_testset_y = torch.tensor(shadow1_testset_y,device=device)\n",
    "\n",
    "shadow1_testset = TensorDataset(shadow1_testset_x,shadow1_testset_y)\n",
    "shadow1_testloader = torch.utils.data.DataLoader(\n",
    "    shadow1_testset, batch_size=128, shuffle=True)\n",
    "\n",
    "shadow2_trainset_x = trainset.data[32000:41000]\n",
    "shadow2_tarinset_y = trainset.targets[32000:41000]\n",
    "shadow2_tarinset = TensorDataset(torch.tensor(shadow2_trainset_x,dtype=torch.float).permute(0,3,1,2),torch.tensor(shadow2_tarinset_y))\n",
    "shadow2_trainloader = torch.utils.data.DataLoader(\n",
    "    shadow2_tarinset, batch_size=128, shuffle=True, num_workers=2)\n",
    "\n",
    "\n",
    "shadow2_testset_x = trainset.data[41000:50000]\n",
    "shadow2_testset_y = trainset.targets[41000:50000]\n",
    "shadow2_testset_x = torch.tensor(shadow2_testset_x, device=device,dtype=torch.float).permute(0,3,1,2)\n",
    "shadow2_testset_y = torch.tensor(shadow2_testset_y, device=device)\n",
    "\n",
    "shadow2_testset = TensorDataset(shadow2_testset_x,shadow2_testset_y)\n",
    "shadow2_testloader = torch.utils.data.DataLoader(\n",
    "    shadow2_testset, batch_size=128, shuffle=True)\n",
    "\n",
    "# target_trainloader = torch.utils.data.DataLoader(\n",
    "#     trainset, batch_size=128, shuffle=True, num_workers=2)\n",
    "\n",
    "testset = torchvision.datasets.CIFAR10(\n",
    "    root='./data', train=False, download=True, transform=transform_test)\n",
    "testloader = torch.utils.data.DataLoader(\n",
    "    testset, batch_size=100, shuffle=False, num_workers=2)\n",
    "\n",
    "\n",
    "# imgloader = torch.utils.data.DataLoader(\n",
    "#     testset, batch_size=100, shuffle=False, num_workers=2)\n",
    "\n",
    "target_testset_x = testset.data\n",
    "target_testset_y = testset.targets\n",
    "classes = ('plane', 'car', 'bird', 'cat', 'deer',\n",
    "           'dog', 'frog', 'horse', 'ship', 'truck')\n",
    "\n",
    "# Model\n",
    "\n"
   ]
  },
  {
   "cell_type": "markdown",
   "metadata": {
    "id": "Zl8Gk798XTwJ"
   },
   "source": [
    "# Train the Target model and Shadow Models"
   ]
  },
  {
   "cell_type": "code",
   "execution_count": null,
   "metadata": {
    "id": "6C6To7P2m5CG"
   },
   "outputs": [],
   "source": [
    "# Training\n",
    "def train(epoch,dataloader,net,criterion,optimizer):\n",
    "    print('\\nEpoch: %d' % epoch)\n",
    "    net.train()\n",
    "    train_loss = 0\n",
    "    correct = 0\n",
    "    total = 0\n",
    "    for batch_idx, (inputs, targets) in enumerate(dataloader):\n",
    "        inputs, targets = inputs.to(device), targets.to(device)\n",
    "        # print(inputs.shape,targets.shape)\n",
    "        optimizer.zero_grad()\n",
    "        outputs = net(inputs)\n",
    "        loss = criterion(outputs, targets)\n",
    "        loss.backward()\n",
    "        optimizer.step()\n",
    "\n",
    "        train_loss += loss.item()\n",
    "        _, predicted = outputs.max(1)\n",
    "        total += targets.size(0)\n",
    "        correct += predicted.eq(targets).sum().item()\n",
    "    return train_loss\n",
    "\n",
    "\n",
    "def test(epoch,dataloader,net,criterion):\n",
    "    global acc\n",
    "    net.eval()\n",
    "    test_loss = 0\n",
    "    correct = 0\n",
    "    total = 0\n",
    "    with torch.no_grad():\n",
    "        for batch_idx, (inputs, targets) in enumerate(dataloader):\n",
    "            inputs, targets = inputs.to(device), targets.to(device)\n",
    "            outputs = net(inputs)\n",
    "            loss = criterion(outputs, targets)\n",
    "\n",
    "            test_loss += loss.item()\n",
    "            _, predicted = outputs.max(1)\n",
    "            total += targets.size(0)\n",
    "            correct += predicted.eq(targets).sum().item()\n",
    "            # print(predicted)\n",
    "            # print(targets)\n",
    "    acc = 100 * correct / total\n",
    "    return test_loss\n"
   ]
  },
  {
   "cell_type": "code",
   "execution_count": null,
   "metadata": {
    "colab": {
     "base_uri": "https://localhost:8080/"
    },
    "id": "hvvJaw3lgdYk",
    "outputId": "073af6ec-6f1b-494d-a385-59d70f4008c7"
   },
   "outputs": [
    {
     "name": "stdout",
     "output_type": "stream",
     "text": [
      "==> Building model..\n",
      "\n",
      "Epoch: 0\n",
      "10.0 295.63627111911774\n",
      "\n",
      "Epoch: 1\n",
      "11.63 199.70415616035461\n",
      "\n",
      "Epoch: 2\n",
      "10.0 177.46166276931763\n",
      "\n",
      "Epoch: 3\n",
      "10.0 163.27161347866058\n",
      "\n",
      "Epoch: 4\n",
      "10.0 153.20780849456787\n",
      "\n",
      "Epoch: 5\n",
      "10.0 144.48625481128693\n",
      "\n",
      "Epoch: 6\n",
      "10.0 131.7255699634552\n",
      "\n",
      "Epoch: 7\n",
      "10.0 121.97856956720352\n",
      "\n",
      "Epoch: 8\n",
      "10.0 109.23577743768692\n",
      "\n",
      "Epoch: 9\n",
      "10.0 98.92697823047638\n",
      "\n",
      "Epoch: 10\n",
      "10.0 88.81610161066055\n",
      "\n",
      "Epoch: 11\n",
      "10.0 75.81395465135574\n",
      "\n",
      "Epoch: 12\n",
      "10.0 66.0685542523861\n",
      "\n",
      "Epoch: 13\n",
      "10.0 54.404149025678635\n",
      "\n",
      "Epoch: 14\n",
      "10.0 43.59173208475113\n",
      "\n",
      "Epoch: 15\n",
      "10.0 37.255193158984184\n",
      "\n",
      "Epoch: 16\n",
      "10.0 29.247623071074486\n",
      "\n",
      "Epoch: 17\n",
      "10.0 21.051703594624996\n",
      "\n",
      "Epoch: 18\n",
      "10.0 21.86254958063364\n",
      "\n",
      "Epoch: 19\n",
      "10.0 17.832267984747887\n",
      "\n",
      "Epoch: 20\n",
      "10.0 15.103025671094656\n",
      "\n",
      "Epoch: 21\n",
      "10.0 19.483031541109085\n",
      "\n",
      "Epoch: 22\n",
      "10.0 12.448987916111946\n",
      "\n",
      "Epoch: 23\n",
      "10.0 12.905217785388231\n",
      "\n",
      "Epoch: 24\n",
      "10.0 12.565899081528187\n",
      "\n",
      "Epoch: 25\n",
      "10.34 10.721862893551588\n",
      "\n",
      "Epoch: 26\n",
      "10.0 8.646217165514827\n",
      "\n",
      "Epoch: 27\n",
      "10.0 10.609366903081536\n",
      "\n",
      "Epoch: 28\n",
      "10.0 11.418378122150898\n",
      "\n",
      "Epoch: 29\n",
      "10.0 11.165103770792484\n",
      "\n",
      "Epoch: 30\n",
      "9.97 10.606281381100416\n",
      "\n",
      "Epoch: 31\n",
      "10.0 12.729890767484903\n",
      "\n",
      "Epoch: 32\n",
      "10.0 11.152959629893303\n",
      "\n",
      "Epoch: 33\n",
      "10.0 9.326819041743875\n",
      "\n",
      "Epoch: 34\n",
      "10.0 6.496404817327857\n",
      "\n",
      "Epoch: 35\n",
      "10.0 9.399204310961068\n",
      "\n",
      "Epoch: 36\n",
      "11.98 13.186276251450181\n",
      "\n",
      "Epoch: 37\n",
      "10.76 11.471571531146765\n",
      "\n",
      "Epoch: 38\n",
      "10.1 7.658071558922529\n",
      "\n",
      "Epoch: 39\n",
      "10.0 2.319310824852437\n",
      "Accuracy of the network on the test images: 10 %\n",
      "\n",
      "Epoch: 0\n",
      "15.733333333333333 180.38020145893097\n",
      "\n",
      "Epoch: 1\n",
      "35.24444444444445 130.7257161140442\n",
      "\n",
      "Epoch: 2\n",
      "37.111111111111114 116.88358771800995\n",
      "\n",
      "Epoch: 3\n",
      "37.87777777777778 111.0648432970047\n",
      "\n",
      "Epoch: 4\n",
      "38.544444444444444 105.00923371315002\n",
      "\n",
      "Epoch: 5\n",
      "39.25555555555555 99.40302431583405\n",
      "\n",
      "Epoch: 6\n",
      "40.75555555555555 94.58235216140747\n",
      "\n",
      "Epoch: 7\n",
      "51.32222222222222 87.7976570725441\n",
      "\n",
      "Epoch: 8\n",
      "47.44444444444444 83.48275125026703\n",
      "\n",
      "Epoch: 9\n",
      "37.077777777777776 76.3623599410057\n",
      "\n",
      "Epoch: 10\n",
      "47.84444444444444 74.14624017477036\n",
      "\n",
      "Epoch: 11\n",
      "58.17777777777778 63.56554752588272\n",
      "\n",
      "Epoch: 12\n",
      "52.266666666666666 58.4593899846077\n",
      "\n",
      "Epoch: 13\n",
      "54.67777777777778 50.6616593003273\n",
      "\n",
      "Epoch: 14\n",
      "58.72222222222222 43.961825996637344\n",
      "\n",
      "Epoch: 15\n",
      "58.2 35.42902433872223\n",
      "\n",
      "Epoch: 16\n",
      "58.65555555555556 29.01308937370777\n",
      "\n",
      "Epoch: 17\n",
      "54.08888888888889 24.97929945588112\n",
      "\n",
      "Epoch: 18\n",
      "59.266666666666666 20.61025968194008\n",
      "\n",
      "Epoch: 19\n",
      "55.01111111111111 16.23890946805477\n",
      "\n",
      "Epoch: 20\n",
      "63.24444444444445 13.313704930245876\n",
      "\n",
      "Epoch: 21\n",
      "61.91111111111111 11.235605016350746\n",
      "\n",
      "Epoch: 22\n",
      "62.31111111111111 6.891606472432613\n",
      "\n",
      "Epoch: 23\n",
      "58.34444444444444 5.368316872045398\n",
      "\n",
      "Epoch: 24\n",
      "59.81111111111111 5.014823982492089\n",
      "\n",
      "Epoch: 25\n",
      "53.58888888888889 5.955427998676896\n",
      "\n",
      "Epoch: 26\n",
      "62.06666666666667 5.267122915945947\n",
      "\n",
      "Epoch: 27\n",
      "61.74444444444445 6.67406749073416\n",
      "\n",
      "Epoch: 28\n",
      "62.03333333333333 9.405002981424332\n",
      "\n",
      "Epoch: 29\n",
      "63.355555555555554 6.241415254771709\n",
      "\n",
      "Epoch: 30\n",
      "63.67777777777778 3.2594588957726955\n",
      "\n",
      "Epoch: 31\n",
      "62.03333333333333 4.974989078938961\n",
      "\n",
      "Epoch: 32\n",
      "63.7 3.5574909672141075\n",
      "\n",
      "Epoch: 33\n",
      "64.87777777777778 1.9678446617908776\n",
      "\n",
      "Epoch: 34\n",
      "63.03333333333333 1.7044224659912288\n",
      "\n",
      "Epoch: 35\n",
      "65.34444444444445 0.9184919279068708\n",
      "\n",
      "Epoch: 36\n",
      "67.15555555555555 0.3538305282127112\n",
      "\n",
      "Epoch: 37\n",
      "67.28888888888889 0.24948077858425677\n",
      "\n",
      "Epoch: 38\n",
      "68.03333333333333 0.127866018563509\n",
      "\n",
      "Epoch: 39\n",
      "68.35555555555555 0.0974314376944676\n",
      "Accuracy of the network on the test images: 68 %\n",
      "\n",
      "Epoch: 0\n",
      "16.344444444444445 215.9009668827057\n",
      "\n",
      "Epoch: 1\n",
      "30.91111111111111 143.89031434059143\n",
      "\n",
      "Epoch: 2\n",
      "30.044444444444444 130.9176504611969\n",
      "\n",
      "Epoch: 3\n",
      "32.3 122.02281415462494\n",
      "\n",
      "Epoch: 4\n",
      "39.03333333333333 115.9529093503952\n",
      "\n",
      "Epoch: 5\n",
      "37.86666666666667 108.77334487438202\n",
      "\n",
      "Epoch: 6\n",
      "44.922222222222224 103.72023022174835\n",
      "\n",
      "Epoch: 7\n",
      "37.855555555555554 98.91215825080872\n",
      "\n",
      "Epoch: 8\n",
      "45.44444444444444 93.7025636434555\n",
      "\n",
      "Epoch: 9\n",
      "52.455555555555556 87.92195904254913\n",
      "\n",
      "Epoch: 10\n",
      "49.166666666666664 80.23354089260101\n",
      "\n",
      "Epoch: 11\n",
      "41.422222222222224 72.9404067993164\n",
      "\n",
      "Epoch: 12\n",
      "55.4 65.29048240184784\n",
      "\n",
      "Epoch: 13\n",
      "46.08888888888889 60.14797157049179\n",
      "\n",
      "Epoch: 14\n",
      "56.43333333333333 50.65579378604889\n",
      "\n",
      "Epoch: 15\n",
      "57.855555555555554 42.94479185342789\n",
      "\n",
      "Epoch: 16\n",
      "55.577777777777776 34.774249225854874\n",
      "\n",
      "Epoch: 17\n",
      "60.41111111111111 28.035232335329056\n",
      "\n",
      "Epoch: 18\n",
      "57.544444444444444 21.615225419402122\n",
      "\n",
      "Epoch: 19\n",
      "58.91111111111111 19.082487508654594\n",
      "\n",
      "Epoch: 20\n",
      "61.77777777777778 15.639662198722363\n",
      "\n",
      "Epoch: 21\n",
      "60.388888888888886 10.312894083559513\n",
      "\n",
      "Epoch: 22\n",
      "58.72222222222222 9.319595739245415\n",
      "\n",
      "Epoch: 23\n",
      "59.955555555555556 9.560568261891603\n",
      "\n",
      "Epoch: 24\n",
      "57.977777777777774 7.700024377554655\n",
      "\n",
      "Epoch: 25\n",
      "64.33333333333333 6.026108438149095\n",
      "\n",
      "Epoch: 26\n",
      "63.22222222222222 4.881090113893151\n",
      "\n",
      "Epoch: 27\n",
      "61.82222222222222 4.825858335010707\n",
      "\n",
      "Epoch: 28\n",
      "60.32222222222222 5.975108047947288\n",
      "\n",
      "Epoch: 29\n",
      "60.111111111111114 5.378874888643622\n",
      "\n",
      "Epoch: 30\n",
      "61.63333333333333 3.411725113168359\n",
      "\n",
      "Epoch: 31\n",
      "62.855555555555554 4.658702716231346\n",
      "\n",
      "Epoch: 32\n",
      "60.111111111111114 5.368376163765788\n",
      "\n",
      "Epoch: 33\n",
      "54.611111111111114 9.117324281483889\n",
      "\n",
      "Epoch: 34\n",
      "62.27777777777778 5.956803221255541\n",
      "\n",
      "Epoch: 35\n",
      "64.03333333333333 3.316128583624959\n",
      "\n",
      "Epoch: 36\n",
      "62.58888888888889 2.3090066546574235\n",
      "\n",
      "Epoch: 37\n",
      "64.36666666666666 2.5186986243352294\n",
      "\n",
      "Epoch: 38\n",
      "64.63333333333334 1.113698251079768\n",
      "\n",
      "Epoch: 39\n",
      "65.61111111111111 0.8515252951765433\n",
      "Accuracy of the network on the test images: 65 %\n"
     ]
    }
   ],
   "source": [
    "print('==> Building model..')\n",
    "target_net = ResNet18()\n",
    "target_net = target_net.to(device)\n",
    "if device == 'cuda':\n",
    "    target_net = torch.nn.DataParallel(target_net)\n",
    "    cudnn.benchmark = True\n",
    "\n",
    "target_criterion = nn.CrossEntropyLoss()\n",
    "target_optimizer = optim.SGD(target_net.parameters(), lr=lr,\n",
    "                      momentum=0.9, weight_decay=5e-4)\n",
    "target_scheduler = torch.optim.lr_scheduler.CosineAnnealingLR(target_optimizer, T_max=200)\n",
    "\n",
    "\n",
    "shadow1_net = ResNet18()\n",
    "shadow1_net = shadow1_net.to(device)\n",
    "if device == 'cuda':\n",
    "    shadow1_net = torch.nn.DataParallel(shadow1_net)\n",
    "    cudnn.benchmark = True\n",
    "\n",
    "shadow1_criterion = nn.CrossEntropyLoss()\n",
    "shadow1_optimizer = optim.SGD(shadow1_net.parameters(), lr=lr,\n",
    "                      momentum=0.9, weight_decay=5e-4)\n",
    "shadow1_scheduler = torch.optim.lr_scheduler.CosineAnnealingLR(shadow1_optimizer, T_max=200)\n",
    "\n",
    "\n",
    "\n",
    "shadow2_net = ResNet18()\n",
    "shadow2_net = shadow2_net.to(device)\n",
    "if device == 'cuda':\n",
    "    shadow2_net = torch.nn.DataParallel(shadow2_net)\n",
    "    cudnn.benchmark = True\n",
    "\n",
    "shadow2_criterion = nn.CrossEntropyLoss()\n",
    "shadow2_optimizer = optim.SGD(shadow2_net.parameters(), lr=lr,\n",
    "                      momentum=0.9, weight_decay=5e-4)\n",
    "shadow2_scheduler = torch.optim.lr_scheduler.CosineAnnealingLR(shadow2_optimizer, T_max=200)\n",
    "\n",
    "\n",
    "# train_losses = []\n",
    "# test_losses = []\n",
    "\n",
    "for epoch in range(0,40):\n",
    "    trl = train(epoch,target_trainloader,target_net,target_criterion,target_optimizer)\n",
    "    # train_losses.append(trl)\n",
    "    tstl = test(epoch,testloader,target_net,target_criterion)\n",
    "    print(acc,trl)\n",
    "    # test_losses.append(tstl)\n",
    "    target_scheduler.step()\n",
    "print('Accuracy of the network on the test images: %d %%' % (acc))\n",
    "\n",
    "for epoch in range(0,40):\n",
    "    trl = train(epoch,shadow1_trainloader,shadow1_net,shadow1_criterion,shadow1_optimizer)\n",
    "    # train_losses.append(trl)\n",
    "    tstl = test(epoch,shadow1_testloader,shadow1_net,shadow1_criterion)\n",
    "    print(acc,trl)\n",
    "    # test_losses.append(tstl)\n",
    "    shadow1_scheduler.step()\n",
    "print('Accuracy of the network on the test images: %d %%' % (acc))\n",
    "\n",
    "for epoch in range(0,40):\n",
    "    trl = train(epoch,shadow2_trainloader,shadow2_net,shadow2_criterion,shadow2_optimizer)\n",
    "    # train_losses.append(trl)\n",
    "    tstl = test(epoch,shadow2_testloader,shadow2_net,shadow2_criterion)\n",
    "    print(acc,trl)\n",
    "    # test_losses.append(tstl)\n",
    "    shadow2_scheduler.step()\n",
    "print('Accuracy of the network on the test images: %d %%' % (acc))"
   ]
  },
  {
   "cell_type": "markdown",
   "metadata": {
    "id": "DHU-BXDTik-M"
   },
   "source": [
    "# Performance of Target Model and Shadow Models"
   ]
  },
  {
   "cell_type": "code",
   "execution_count": null,
   "metadata": {
    "colab": {
     "base_uri": "https://localhost:8080/"
    },
    "id": "sYGjextByLoU",
    "outputId": "7a63c7b5-7928-41e9-c896-60eaa56fd1a5"
   },
   "outputs": [
    {
     "name": "stdout",
     "output_type": "stream",
     "text": [
      "Accuracy of the network on the test images: 10 %\n",
      "Accuracy of the network on the test images: 68 %\n",
      "Accuracy of the network on the test images: 65 %\n"
     ]
    }
   ],
   "source": [
    "\n",
    "\n",
    "tstl = test(epoch,testloader,target_net,target_criterion)\n",
    "print('Accuracy of the network on the test images: %d %%' % (acc))\n",
    "\n",
    "tstl = test(epoch,shadow1_testloader,shadow1_net,shadow1_criterion)\n",
    "print('Accuracy of the network on the test images: %d %%' % (acc))\n",
    "\n",
    "tstl = test(epoch,shadow2_testloader,shadow2_net,shadow2_criterion)\n",
    "print('Accuracy of the network on the test images: %d %%' % (acc))"
   ]
  },
  {
   "cell_type": "markdown",
   "metadata": {
    "id": "YnHhzQBZtc96"
   },
   "source": [
    "# Saving models"
   ]
  },
  {
   "cell_type": "code",
   "execution_count": null,
   "metadata": {
    "id": "7LRxtwWMtbLj"
   },
   "outputs": [],
   "source": [
    "torch.save({\n",
    "            'epoch': epoch,\n",
    "            'model_state_dict': target_net.state_dict(),\n",
    "            'optimizer_state_dict': target_optimizer.state_dict(),\n",
    "            'loss': target_criterion,\n",
    "            }, 'mlsec_hw4_q6_target')\n",
    "\n",
    "torch.save({\n",
    "            'epoch': epoch,\n",
    "            'model_state_dict': shadow1_net.state_dict(),\n",
    "            'optimizer_state_dict': shadow1_optimizer.state_dict(),\n",
    "            'loss': shadow1_criterion,\n",
    "            }, 'mlsec_hw4_q6_shadow1')\n",
    "\n",
    "torch.save({\n",
    "            'epoch': epoch,\n",
    "            'model_state_dict': shadow2_net.state_dict(),\n",
    "            'optimizer_state_dict': shadow2_optimizer.state_dict(),\n",
    "            'loss': shadow2_criterion,\n",
    "            }, 'mlsec_hw4_q6_shadow2')"
   ]
  },
  {
   "cell_type": "markdown",
   "metadata": {
    "id": "shoxiC5b79Ul"
   },
   "source": [
    "# Load"
   ]
  },
  {
   "cell_type": "code",
   "execution_count": null,
   "metadata": {
    "colab": {
     "base_uri": "https://localhost:8080/"
    },
    "id": "bUrXNtGMgfOi",
    "outputId": "fd687da5-e7e2-47da-dfa5-a857556d9a1e"
   },
   "outputs": [
    {
     "data": {
      "text/plain": [
       "DataParallel(\n",
       "  (module): ResNet(\n",
       "    (conv1): Conv2d(3, 64, kernel_size=(3, 3), stride=(1, 1), padding=(1, 1), bias=False)\n",
       "    (bn1): BatchNorm2d(64, eps=1e-05, momentum=0.1, affine=True, track_running_stats=True)\n",
       "    (layer1): Sequential(\n",
       "      (0): BasicBlock(\n",
       "        (conv1): Conv2d(64, 64, kernel_size=(3, 3), stride=(1, 1), padding=(1, 1), bias=False)\n",
       "        (bn1): BatchNorm2d(64, eps=1e-05, momentum=0.1, affine=True, track_running_stats=True)\n",
       "        (conv2): Conv2d(64, 64, kernel_size=(3, 3), stride=(1, 1), padding=(1, 1), bias=False)\n",
       "        (bn2): BatchNorm2d(64, eps=1e-05, momentum=0.1, affine=True, track_running_stats=True)\n",
       "        (shortcut): Sequential()\n",
       "      )\n",
       "      (1): BasicBlock(\n",
       "        (conv1): Conv2d(64, 64, kernel_size=(3, 3), stride=(1, 1), padding=(1, 1), bias=False)\n",
       "        (bn1): BatchNorm2d(64, eps=1e-05, momentum=0.1, affine=True, track_running_stats=True)\n",
       "        (conv2): Conv2d(64, 64, kernel_size=(3, 3), stride=(1, 1), padding=(1, 1), bias=False)\n",
       "        (bn2): BatchNorm2d(64, eps=1e-05, momentum=0.1, affine=True, track_running_stats=True)\n",
       "        (shortcut): Sequential()\n",
       "      )\n",
       "    )\n",
       "    (layer2): Sequential(\n",
       "      (0): BasicBlock(\n",
       "        (conv1): Conv2d(64, 128, kernel_size=(3, 3), stride=(2, 2), padding=(1, 1), bias=False)\n",
       "        (bn1): BatchNorm2d(128, eps=1e-05, momentum=0.1, affine=True, track_running_stats=True)\n",
       "        (conv2): Conv2d(128, 128, kernel_size=(3, 3), stride=(1, 1), padding=(1, 1), bias=False)\n",
       "        (bn2): BatchNorm2d(128, eps=1e-05, momentum=0.1, affine=True, track_running_stats=True)\n",
       "        (shortcut): Sequential(\n",
       "          (0): Conv2d(64, 128, kernel_size=(1, 1), stride=(2, 2), bias=False)\n",
       "          (1): BatchNorm2d(128, eps=1e-05, momentum=0.1, affine=True, track_running_stats=True)\n",
       "        )\n",
       "      )\n",
       "      (1): BasicBlock(\n",
       "        (conv1): Conv2d(128, 128, kernel_size=(3, 3), stride=(1, 1), padding=(1, 1), bias=False)\n",
       "        (bn1): BatchNorm2d(128, eps=1e-05, momentum=0.1, affine=True, track_running_stats=True)\n",
       "        (conv2): Conv2d(128, 128, kernel_size=(3, 3), stride=(1, 1), padding=(1, 1), bias=False)\n",
       "        (bn2): BatchNorm2d(128, eps=1e-05, momentum=0.1, affine=True, track_running_stats=True)\n",
       "        (shortcut): Sequential()\n",
       "      )\n",
       "    )\n",
       "    (layer3): Sequential(\n",
       "      (0): BasicBlock(\n",
       "        (conv1): Conv2d(128, 256, kernel_size=(3, 3), stride=(2, 2), padding=(1, 1), bias=False)\n",
       "        (bn1): BatchNorm2d(256, eps=1e-05, momentum=0.1, affine=True, track_running_stats=True)\n",
       "        (conv2): Conv2d(256, 256, kernel_size=(3, 3), stride=(1, 1), padding=(1, 1), bias=False)\n",
       "        (bn2): BatchNorm2d(256, eps=1e-05, momentum=0.1, affine=True, track_running_stats=True)\n",
       "        (shortcut): Sequential(\n",
       "          (0): Conv2d(128, 256, kernel_size=(1, 1), stride=(2, 2), bias=False)\n",
       "          (1): BatchNorm2d(256, eps=1e-05, momentum=0.1, affine=True, track_running_stats=True)\n",
       "        )\n",
       "      )\n",
       "      (1): BasicBlock(\n",
       "        (conv1): Conv2d(256, 256, kernel_size=(3, 3), stride=(1, 1), padding=(1, 1), bias=False)\n",
       "        (bn1): BatchNorm2d(256, eps=1e-05, momentum=0.1, affine=True, track_running_stats=True)\n",
       "        (conv2): Conv2d(256, 256, kernel_size=(3, 3), stride=(1, 1), padding=(1, 1), bias=False)\n",
       "        (bn2): BatchNorm2d(256, eps=1e-05, momentum=0.1, affine=True, track_running_stats=True)\n",
       "        (shortcut): Sequential()\n",
       "      )\n",
       "    )\n",
       "    (layer4): Sequential(\n",
       "      (0): BasicBlock(\n",
       "        (conv1): Conv2d(256, 512, kernel_size=(3, 3), stride=(2, 2), padding=(1, 1), bias=False)\n",
       "        (bn1): BatchNorm2d(512, eps=1e-05, momentum=0.1, affine=True, track_running_stats=True)\n",
       "        (conv2): Conv2d(512, 512, kernel_size=(3, 3), stride=(1, 1), padding=(1, 1), bias=False)\n",
       "        (bn2): BatchNorm2d(512, eps=1e-05, momentum=0.1, affine=True, track_running_stats=True)\n",
       "        (shortcut): Sequential(\n",
       "          (0): Conv2d(256, 512, kernel_size=(1, 1), stride=(2, 2), bias=False)\n",
       "          (1): BatchNorm2d(512, eps=1e-05, momentum=0.1, affine=True, track_running_stats=True)\n",
       "        )\n",
       "      )\n",
       "      (1): BasicBlock(\n",
       "        (conv1): Conv2d(512, 512, kernel_size=(3, 3), stride=(1, 1), padding=(1, 1), bias=False)\n",
       "        (bn1): BatchNorm2d(512, eps=1e-05, momentum=0.1, affine=True, track_running_stats=True)\n",
       "        (conv2): Conv2d(512, 512, kernel_size=(3, 3), stride=(1, 1), padding=(1, 1), bias=False)\n",
       "        (bn2): BatchNorm2d(512, eps=1e-05, momentum=0.1, affine=True, track_running_stats=True)\n",
       "        (shortcut): Sequential()\n",
       "      )\n",
       "    )\n",
       "    (linear): Linear(in_features=512, out_features=10, bias=True)\n",
       "  )\n",
       ")"
      ]
     },
     "execution_count": 6,
     "metadata": {
      "tags": []
     },
     "output_type": "execute_result"
    }
   ],
   "source": [
    "target_net = ResNet18()\n",
    "target_net = target_net.to(device)\n",
    "if device == 'cuda':\n",
    "    target_net = torch.nn.DataParallel(target_net)\n",
    "    cudnn.benchmark = True\n",
    "\n",
    "target_optimizer =optim.SGD(target_net.parameters(), lr=lr,momentum=0.9, weight_decay=5e-4)\n",
    "target_scheduler = torch.optim.lr_scheduler.CosineAnnealingLR(target_optimizer, T_max=200)\n",
    "\n",
    "checkpoint = torch.load('mlsec_hw4_q6_target')\n",
    "target_net.load_state_dict(checkpoint['model_state_dict'])\n",
    "target_optimizer.load_state_dict(checkpoint['optimizer_state_dict'])\n",
    "epoch = checkpoint['epoch']\n",
    "target_criterion = checkpoint['loss']\n",
    "\n",
    "target_net.eval()\n",
    "\n",
    "\n",
    "shadow1_net = ResNet18()\n",
    "shadow1_net = shadow1_net.to(device)\n",
    "if device == 'cuda':\n",
    "    shadow1_net = torch.nn.DataParallel(shadow1_net)\n",
    "    cudnn.benchmark = True\n",
    "\n",
    "shadow1_optimizer =optim.SGD(shadow1_net.parameters(), lr=lr,momentum=0.9, weight_decay=5e-4)\n",
    "shadow1_scheduler = torch.optim.lr_scheduler.CosineAnnealingLR(shadow1_optimizer, T_max=200)\n",
    "\n",
    "checkpoint = torch.load('mlsec_hw4_q6_shadow1')\n",
    "shadow1_net.load_state_dict(checkpoint['model_state_dict'])\n",
    "shadow1_optimizer.load_state_dict(checkpoint['optimizer_state_dict'])\n",
    "epoch = checkpoint['epoch']\n",
    "shadow1_criterion = checkpoint['loss']\n",
    "\n",
    "shadow1_net.eval()\n",
    "\n",
    "\n",
    "shadow2_net = ResNet18()\n",
    "shadow2_net = shadow2_net.to(device)\n",
    "if device == 'cuda':\n",
    "    shadow2_net = torch.nn.DataParallel(shadow2_net)\n",
    "    cudnn.benchmark = True\n",
    "\n",
    "shadow2_optimizer =optim.SGD(shadow2_net.parameters(), lr=lr,momentum=0.9, weight_decay=5e-4)\n",
    "shadow2_scheduler = torch.optim.lr_scheduler.CosineAnnealingLR(shadow2_optimizer, T_max=200)\n",
    "\n",
    "checkpoint = torch.load('mlsec_hw4_q6_shadow2')\n",
    "shadow2_net.load_state_dict(checkpoint['model_state_dict'])\n",
    "shadow2_optimizer.load_state_dict(checkpoint['optimizer_state_dict'])\n",
    "epoch = checkpoint['epoch']\n",
    "shadow2_criterion = checkpoint['loss']\n",
    "\n",
    "shadow2_net.eval()\n",
    "\n",
    "# - or -\n",
    "# model.train()"
   ]
  },
  {
   "cell_type": "markdown",
   "metadata": {
    "id": "MJADkORHWUUa"
   },
   "source": [
    "# ِData for attack model"
   ]
  },
  {
   "cell_type": "code",
   "execution_count": null,
   "metadata": {
    "id": "Z_2Ma0ckXBhp"
   },
   "outputs": [],
   "source": [
    "def get_ouput(dataloader,net):\n",
    "    net.eval()\n",
    "    output = []\n",
    "    with torch.no_grad():\n",
    "        for batch_idx, (inputs, targets) in enumerate(dataloader):\n",
    "            inputs, targets = inputs.to(device), targets.to(device)\n",
    "            outputs = net(inputs)\n",
    "            output.extend(outputs.cpu().detach().numpy())\n",
    "    return output\n"
   ]
  },
  {
   "cell_type": "code",
   "execution_count": null,
   "metadata": {
    "id": "lT52QA-TWYC_"
   },
   "outputs": [],
   "source": [
    "\n",
    "pred1_test = get_ouput(shadow1_testloader, shadow1_net)\n",
    "np.shape(pred1_test)\n",
    "pred1_test = np.concatenate([pred1_test,shadow1_testset_y.cpu().detach().numpy().reshape(-1,1)],axis=1)\n",
    "np.shape(pred1_test)\n",
    "inout_test = np.zeros((len(pred1_test)))\n",
    "\n",
    "\n",
    "pred1_train = get_ouput(shadow1_trainloader, shadow1_net)\n",
    "np.shape(pred1_train)\n",
    "pred1_train = np.concatenate([pred1_train,np.array(shadow1_tarinset_y).reshape(-1,1)],axis=1)\n",
    "np.shape(pred1_train)\n",
    "inout_train = np.ones((len(pred1_train)))\n",
    "\n",
    "x1 =  np.concatenate([pred1_train,pred1_test],axis=0)\n",
    "y1 =  np.concatenate([inout_train,inout_test],axis=0)"
   ]
  },
  {
   "cell_type": "code",
   "execution_count": null,
   "metadata": {
    "id": "gVEcPBgCZAMW"
   },
   "outputs": [],
   "source": [
    "\n",
    "pred2_test = get_ouput(shadow2_testloader, shadow2_net)\n",
    "np.shape(pred2_test)\n",
    "pred2_test = np.concatenate([pred2_test,shadow2_testset_y.cpu().detach().numpy().reshape(-1,1)],axis=1)\n",
    "np.shape(pred2_test)\n",
    "inout_test = np.zeros((len(pred2_test)))\n",
    "\n",
    "\n",
    "pred2_train = get_ouput(shadow2_trainloader, shadow2_net)\n",
    "np.shape(pred2_train)\n",
    "pred2_train = np.concatenate([pred2_train,np.array(shadow2_tarinset_y).reshape(-1,1)],axis=1)\n",
    "np.shape(pred2_train)\n",
    "inout_train = np.ones((len(pred2_train)))\n",
    "\n",
    "x2 =  np.concatenate([pred2_train,pred2_test],axis=0)\n",
    "y2 =  np.concatenate([inout_train,inout_test],axis=0)"
   ]
  },
  {
   "cell_type": "code",
   "execution_count": null,
   "metadata": {
    "id": "RVHCbh9_YJsQ"
   },
   "outputs": [],
   "source": [
    "x =  np.concatenate([x1,x2],axis=0)\n",
    "y =  np.concatenate([y1,y2],axis=0)"
   ]
  },
  {
   "cell_type": "markdown",
   "metadata": {
    "id": "wuh8Rr88i6ti"
   },
   "source": [
    "# Train Attack Model"
   ]
  },
  {
   "cell_type": "code",
   "execution_count": null,
   "metadata": {
    "id": "XUY1ts85bWQ-"
   },
   "outputs": [],
   "source": [
    "from sklearn.neural_network import MLPClassifier\n",
    "from sklearn.datasets import make_classification\n",
    "from sklearn.model_selection import train_test_split\n",
    "\n",
    "clf = MLPClassifier(random_state=1, max_iter=300).fit(x, y)"
   ]
  },
  {
   "cell_type": "code",
   "execution_count": null,
   "metadata": {
    "id": "-K9-A8Mde7RE"
   },
   "outputs": [],
   "source": [
    "\n",
    "target_test = get_ouput(testloader, target_net)\n",
    "# print(np.shape(target_test),np.shape(target_testset_y))\n",
    "target_test = np.concatenate([target_test,np.array(target_testset_y).reshape(-1,1)],axis=1)\n",
    "np.shape(target_test)\n",
    "inout_test = np.zeros((len(target_test)))\n",
    "\n",
    "\n",
    "target_train = get_ouput(target_trainloader, target_net)\n",
    "np.shape(target_train)\n",
    "target_train = np.concatenate([target_train,np.array(target_tarinset_y).reshape(-1,1)],axis=1)\n",
    "np.shape(target_train)\n",
    "inout_train = np.ones((len(target_train)))\n",
    "\n",
    "x_test =  np.concatenate([target_train[:10000],target_test[:10000]],axis=0)\n",
    "y_test =  np.concatenate([inout_train[:10000],inout_test[:10000]],axis=0)"
   ]
  },
  {
   "cell_type": "code",
   "execution_count": null,
   "metadata": {
    "colab": {
     "base_uri": "https://localhost:8080/"
    },
    "id": "ChIS2NcafTSq",
    "outputId": "e1dbc187-a4ba-45d1-c6a8-eb59644a252d"
   },
   "outputs": [
    {
     "data": {
      "text/plain": [
       "(20000, 2)"
      ]
     },
     "execution_count": 59,
     "metadata": {
      "tags": []
     },
     "output_type": "execute_result"
    }
   ],
   "source": [
    "pred = clf.predict_proba(x_test)\n",
    "\n",
    "np.shape(pred)"
   ]
  },
  {
   "cell_type": "markdown",
   "metadata": {
    "id": "KARIbYa-jCur"
   },
   "source": [
    "# Evaluate The Inference Attack"
   ]
  },
  {
   "cell_type": "markdown",
   "metadata": {
    "id": "CJ6Nlc7iiqLb"
   },
   "source": [
    "## Accuracy of Attack"
   ]
  },
  {
   "cell_type": "code",
   "execution_count": null,
   "metadata": {
    "colab": {
     "base_uri": "https://localhost:8080/"
    },
    "id": "czajXWKHix9i",
    "outputId": "45b8af53-d623-47f7-e25a-a4e0eb883e71"
   },
   "outputs": [
    {
     "data": {
      "text/plain": [
       "0.77625"
      ]
     },
     "execution_count": 60,
     "metadata": {
      "tags": []
     },
     "output_type": "execute_result"
    }
   ],
   "source": [
    "predicted_classes = np.argmax(pred,axis=1)\n",
    "from sklearn.metrics import accuracy_score\n",
    "accuracy_score(y_test,predicted_classes)"
   ]
  },
  {
   "cell_type": "markdown",
   "metadata": {
    "id": "aB4FcXH_isYj"
   },
   "source": [
    "## Confusion Matrix"
   ]
  },
  {
   "cell_type": "code",
   "execution_count": null,
   "metadata": {
    "colab": {
     "base_uri": "https://localhost:8080/"
    },
    "id": "THbknBZGkOxp",
    "outputId": "e3c2a751-66ca-464f-aa48-02aa03716e38"
   },
   "outputs": [
    {
     "data": {
      "text/plain": [
       "array([[10000,     0],\n",
       "       [ 4475,  5525]])"
      ]
     },
     "execution_count": 61,
     "metadata": {
      "tags": []
     },
     "output_type": "execute_result"
    }
   ],
   "source": [
    "from sklearn.metrics import confusion_matrix\n",
    "confusion_matrix(y_test, predicted_classes)"
   ]
  }
 ],
 "metadata": {
  "accelerator": "GPU",
  "colab": {
   "collapsed_sections": [],
   "name": "MLSec_HW4_Q6_completed.ipynb",
   "provenance": [],
   "toc_visible": true
  },
  "kernelspec": {
   "display_name": "Python 3",
   "language": "python",
   "name": "python3"
  },
  "language_info": {
   "codemirror_mode": {
    "name": "ipython",
    "version": 3
   },
   "file_extension": ".py",
   "mimetype": "text/x-python",
   "name": "python",
   "nbconvert_exporter": "python",
   "pygments_lexer": "ipython3",
   "version": "3.7.6"
  }
 },
 "nbformat": 4,
 "nbformat_minor": 1
}
