{
 "cells": [
  {
   "cell_type": "markdown",
   "metadata": {
    "id": "oVh6stZmm4FI"
   },
   "source": [
    "#### Build ResnNet18 over cifar10"
   ]
  },
  {
   "cell_type": "code",
   "execution_count": 1,
   "metadata": {
    "cellView": "code",
    "colab": {
     "base_uri": "https://localhost:8080/"
    },
    "id": "dF8zbANmutFx",
    "outputId": "443e8a82-2e7a-4214-bc59-fa0eec4b589f"
   },
   "outputs": [
    {
     "name": "stdout",
     "output_type": "stream",
     "text": [
      "Mounted at /content/drive\n"
     ]
    }
   ],
   "source": [
    "from google.colab import drive\n",
    "drive.mount('/content/drive')"
   ]
  },
  {
   "cell_type": "code",
   "execution_count": 3,
   "metadata": {
    "colab": {
     "base_uri": "https://localhost:8080/"
    },
    "id": "TWoN53mi80jY",
    "outputId": "532f03b9-879a-477e-fa57-a4440bedfc2f"
   },
   "outputs": [
    {
     "name": "stdout",
     "output_type": "stream",
     "text": [
      "/content/drive/MyDrive\n"
     ]
    }
   ],
   "source": [
    "# cd to where you put resnet.py\n",
    "%cd /content/drive/MyDrive"
   ]
  },
  {
   "cell_type": "code",
   "execution_count": 4,
   "metadata": {
    "id": "OGuslJ_e_Hlg"
   },
   "outputs": [],
   "source": [
    "import torch\n",
    "import torch.nn as nn\n",
    "import torch.optim as optim\n",
    "import torch.nn.functional as F\n",
    "import torch.backends.cudnn as cudnn\n",
    "\n",
    "import torchvision\n",
    "import torchvision.transforms as transforms\n",
    "\n",
    "import os\n",
    "import argparse\n",
    "import matplotlib.pyplot as plt\n",
    "import numpy as np\n",
    "\n",
    "from resnet import *\n"
   ]
  },
  {
   "cell_type": "code",
   "execution_count": 5,
   "metadata": {
    "id": "kMJqAx798x5c"
   },
   "outputs": [],
   "source": [
    "device = 'cuda' if torch.cuda.is_available() else 'cpu'\n",
    "lr = 0.01"
   ]
  },
  {
   "cell_type": "code",
   "execution_count": 6,
   "metadata": {
    "colab": {
     "base_uri": "https://localhost:8080/"
    },
    "id": "pBNfOkMr92S3",
    "outputId": "aed010e2-feaf-4900-88e1-b7266f0c3854"
   },
   "outputs": [
    {
     "name": "stdout",
     "output_type": "stream",
     "text": [
      "==> Preparing data..\n",
      "Files already downloaded and verified\n",
      "Files already downloaded and verified\n",
      "==> Building model..\n"
     ]
    }
   ],
   "source": [
    "print('==> Preparing data..')\n",
    "transform_train = transforms.Compose([\n",
    "    transforms.RandomCrop(32, padding=4),\n",
    "    transforms.RandomHorizontalFlip(),\n",
    "    transforms.ToTensor(),\n",
    "    transforms.Normalize((0.4914, 0.4822, 0.4465), (0.2023, 0.1994, 0.2010)),\n",
    "])\n",
    "\n",
    "transform_test = transforms.Compose([\n",
    "    transforms.ToTensor(),\n",
    "    transforms.Normalize((0.4914, 0.4822, 0.4465), (0.2023, 0.1994, 0.2010)),\n",
    "])\n",
    "\n",
    "trainset = torchvision.datasets.CIFAR10(\n",
    "    root='./data', train=True, download=True, transform=transform_train)\n",
    "trainloader = torch.utils.data.DataLoader(\n",
    "    trainset, batch_size=128, shuffle=True, num_workers=2)\n",
    "\n",
    "testset = torchvision.datasets.CIFAR10(\n",
    "    root='./data', train=False, download=True, transform=transform_test)\n",
    "testloader = torch.utils.data.DataLoader(\n",
    "    testset, batch_size=100, shuffle=False, num_workers=2)\n",
    "\n",
    "classes = ('plane', 'car', 'bird', 'cat', 'deer',\n",
    "           'dog', 'frog', 'horse', 'ship', 'truck')\n",
    "\n",
    "# Model\n",
    "print('==> Building model..')\n",
    "net = ResNet18()\n",
    "net = net.to(device)\n",
    "if device == 'cuda':\n",
    "    net = torch.nn.DataParallel(net)\n",
    "    cudnn.benchmark = True\n",
    "\n",
    "criterion = nn.CrossEntropyLoss()\n",
    "optimizer = optim.SGD(net.parameters(), lr=lr,\n",
    "                      momentum=0.9, weight_decay=5e-4)\n",
    "scheduler = torch.optim.lr_scheduler.CosineAnnealingLR(optimizer, T_max=200)\n"
   ]
  },
  {
   "cell_type": "markdown",
   "metadata": {
    "id": "m_8ZibSM89TE"
   },
   "source": [
    "### training"
   ]
  },
  {
   "cell_type": "code",
   "execution_count": null,
   "metadata": {
    "id": "OOLoVjk087ek"
   },
   "outputs": [],
   "source": [
    "\n",
    "# Training\n",
    "def train(epoch):\n",
    "    print('\\nEpoch: %d' % epoch)\n",
    "    net.train()\n",
    "    train_loss = 0\n",
    "    correct = 0\n",
    "    total = 0\n",
    "    for batch_idx, (inputs, targets) in enumerate(trainloader):\n",
    "        inputs, targets = inputs.to(device), targets.to(device)\n",
    "        optimizer.zero_grad()\n",
    "        outputs = net(inputs)\n",
    "        loss = criterion(outputs, targets)\n",
    "        loss.backward()\n",
    "        optimizer.step()\n",
    "\n",
    "        train_loss += loss.item()\n",
    "        _, predicted = outputs.max(1)\n",
    "        total += targets.size(0)\n",
    "        correct += predicted.eq(targets).sum().item()\n",
    "    return train_loss\n",
    "\n",
    "\n",
    "def test(epoch):\n",
    "    global acc\n",
    "    net.eval()\n",
    "    test_loss = 0\n",
    "    correct = 0\n",
    "    total = 0\n",
    "    with torch.no_grad():\n",
    "        for batch_idx, (inputs, targets) in enumerate(testloader):\n",
    "            inputs, targets = inputs.to(device), targets.to(device)\n",
    "            outputs = net(inputs)\n",
    "            loss = criterion(outputs, targets)\n",
    "\n",
    "            test_loss += loss.item()\n",
    "            _, predicted = outputs.max(1)\n",
    "            total += targets.size(0)\n",
    "            correct += predicted.eq(targets).sum().item()\n",
    "    acc = 100 * correct / total\n",
    "    return test_loss\n"
   ]
  },
  {
   "cell_type": "code",
   "execution_count": null,
   "metadata": {
    "id": "8Y7DHygJ83e8"
   },
   "outputs": [],
   "source": [
    "train_losses = []\n",
    "test_losses = []\n",
    "\n",
    "for epoch in range(0,40):\n",
    "    trl = train(epoch)\n",
    "    train_losses.append(trl)\n",
    "    tstl = test(epoch)\n",
    "    test_losses.append(tstl)\n",
    "    scheduler.step()\n",
    "\n",
    "print('Accuracy of the network on the test images: %d %%' % (acc))"
   ]
  },
  {
   "cell_type": "code",
   "execution_count": null,
   "metadata": {
    "colab": {
     "base_uri": "https://localhost:8080/",
     "height": 318
    },
    "id": "U9JF49N9xVyL",
    "outputId": "9dc0a5fd-af91-4e08-bf6f-508666100c2f"
   },
   "outputs": [
    {
     "name": "stdout",
     "output_type": "stream",
     "text": [
      "[565.3478790521622, 368.41895842552185, 286.9470936655998, 240.13479721546173, 205.73215746879578, 184.15975749492645, 166.02828007936478, 150.86289237439632, 139.35495771467686, 129.07502849400043, 120.29470273852348, 111.3263489305973, 106.03369195759296, 98.76329117268324, 94.87129108607769, 88.59207692742348, 85.03814271092415, 78.65169991925359, 74.91987405717373, 70.65096627548337, 66.582962885499, 63.103892132639885, 63.42591020092368, 56.735269628465176, 57.57031409069896, 52.78323790803552, 53.198398139327765, 48.30326868221164, 45.71889441460371, 45.73125679604709, 43.363538801670074, 40.45368825830519, 39.53770394809544, 37.26620310917497, 36.30282591097057, 34.47617950104177, 32.73876299522817, 33.3066647015512, 30.145455995574594, 29.40655600093305]\n",
      "[118.41340851783752, 96.7493726015091, 73.29795423150063, 65.96601635217667, 59.366617023944855, 60.882470309734344, 55.408654898405075, 48.192844331264496, 48.77205242216587, 49.19631379842758, 42.903468534350395, 36.9301000982523, 48.19247908890247, 43.020638316869736, 39.03882011771202, 39.884336933493614, 38.76797616481781, 41.28160700201988, 36.581019043922424, 39.43060281872749, 34.874496743083, 35.40681167691946, 36.206711649894714, 42.21318853646517, 30.97545735538006, 43.365139298141, 39.65702097117901, 36.58712850511074, 37.507767342031, 33.052928417921066, 33.587279826402664, 31.93702219799161, 37.50865910947323, 35.60219821333885, 34.446080438792706, 31.650197565555573, 34.950392693281174, 31.8716237321496, 32.80770106613636, 34.33589422702789]\n"
     ]
    },
    {
     "data": {
      "image/png": "[encoded data removed]",
      "text/plain": [
       "<Figure size 432x288 with 1 Axes>"
      ]
     },
     "metadata": {
      "needs_background": "light",
      "tags": []
     },
     "output_type": "display_data"
    }
   ],
   "source": [
    "import matplotlib.pyplot as plt\n",
    "print(train_losses)\n",
    "print(test_losses)\n",
    "plt.plot(train_losses,label='train loss')\n",
    "plt.plot(test_losses,label='test loss')\n",
    "plt.ylabel('Loss value')\n",
    "plt.legend()\n",
    "plt.show()"
   ]
  },
  {
   "cell_type": "markdown",
   "metadata": {
    "id": "ttzOTRlkZms2"
   },
   "source": [
    "# Saving"
   ]
  },
  {
   "cell_type": "code",
   "execution_count": null,
   "metadata": {
    "id": "rE5Ut7fZZmUh"
   },
   "outputs": [],
   "source": [
    "torch.save({\n",
    "            'epoch': epoch,\n",
    "            'model_state_dict': net.state_dict(),\n",
    "            'optimizer_state_dict': optimizer.state_dict(),\n",
    "            'loss': criterion,\n",
    "            }, 'hw3_resnet')"
   ]
  },
  {
   "cell_type": "markdown",
   "metadata": {
    "id": "LzPTxMvgZ1Lu"
   },
   "source": [
    "# Loading"
   ]
  },
  {
   "cell_type": "code",
   "execution_count": 7,
   "metadata": {
    "colab": {
     "base_uri": "https://localhost:8080/"
    },
    "id": "oG5y3hYKZ0xv",
    "outputId": "64bf05de-0a8b-4d26-bf97-96c8f6622da2"
   },
   "outputs": [
    {
     "data": {
      "text/plain": [
       "DataParallel(\n",
       "  (module): ResNet(\n",
       "    (conv1): Conv2d(3, 64, kernel_size=(3, 3), stride=(1, 1), padding=(1, 1), bias=False)\n",
       "    (bn1): BatchNorm2d(64, eps=1e-05, momentum=0.1, affine=True, track_running_stats=True)\n",
       "    (layer1): Sequential(\n",
       "      (0): BasicBlock(\n",
       "        (conv1): Conv2d(64, 64, kernel_size=(3, 3), stride=(1, 1), padding=(1, 1), bias=False)\n",
       "        (bn1): BatchNorm2d(64, eps=1e-05, momentum=0.1, affine=True, track_running_stats=True)\n",
       "        (conv2): Conv2d(64, 64, kernel_size=(3, 3), stride=(1, 1), padding=(1, 1), bias=False)\n",
       "        (bn2): BatchNorm2d(64, eps=1e-05, momentum=0.1, affine=True, track_running_stats=True)\n",
       "        (shortcut): Sequential()\n",
       "      )\n",
       "      (1): BasicBlock(\n",
       "        (conv1): Conv2d(64, 64, kernel_size=(3, 3), stride=(1, 1), padding=(1, 1), bias=False)\n",
       "        (bn1): BatchNorm2d(64, eps=1e-05, momentum=0.1, affine=True, track_running_stats=True)\n",
       "        (conv2): Conv2d(64, 64, kernel_size=(3, 3), stride=(1, 1), padding=(1, 1), bias=False)\n",
       "        (bn2): BatchNorm2d(64, eps=1e-05, momentum=0.1, affine=True, track_running_stats=True)\n",
       "        (shortcut): Sequential()\n",
       "      )\n",
       "    )\n",
       "    (layer2): Sequential(\n",
       "      (0): BasicBlock(\n",
       "        (conv1): Conv2d(64, 128, kernel_size=(3, 3), stride=(2, 2), padding=(1, 1), bias=False)\n",
       "        (bn1): BatchNorm2d(128, eps=1e-05, momentum=0.1, affine=True, track_running_stats=True)\n",
       "        (conv2): Conv2d(128, 128, kernel_size=(3, 3), stride=(1, 1), padding=(1, 1), bias=False)\n",
       "        (bn2): BatchNorm2d(128, eps=1e-05, momentum=0.1, affine=True, track_running_stats=True)\n",
       "        (shortcut): Sequential(\n",
       "          (0): Conv2d(64, 128, kernel_size=(1, 1), stride=(2, 2), bias=False)\n",
       "          (1): BatchNorm2d(128, eps=1e-05, momentum=0.1, affine=True, track_running_stats=True)\n",
       "        )\n",
       "      )\n",
       "      (1): BasicBlock(\n",
       "        (conv1): Conv2d(128, 128, kernel_size=(3, 3), stride=(1, 1), padding=(1, 1), bias=False)\n",
       "        (bn1): BatchNorm2d(128, eps=1e-05, momentum=0.1, affine=True, track_running_stats=True)\n",
       "        (conv2): Conv2d(128, 128, kernel_size=(3, 3), stride=(1, 1), padding=(1, 1), bias=False)\n",
       "        (bn2): BatchNorm2d(128, eps=1e-05, momentum=0.1, affine=True, track_running_stats=True)\n",
       "        (shortcut): Sequential()\n",
       "      )\n",
       "    )\n",
       "    (layer3): Sequential(\n",
       "      (0): BasicBlock(\n",
       "        (conv1): Conv2d(128, 256, kernel_size=(3, 3), stride=(2, 2), padding=(1, 1), bias=False)\n",
       "        (bn1): BatchNorm2d(256, eps=1e-05, momentum=0.1, affine=True, track_running_stats=True)\n",
       "        (conv2): Conv2d(256, 256, kernel_size=(3, 3), stride=(1, 1), padding=(1, 1), bias=False)\n",
       "        (bn2): BatchNorm2d(256, eps=1e-05, momentum=0.1, affine=True, track_running_stats=True)\n",
       "        (shortcut): Sequential(\n",
       "          (0): Conv2d(128, 256, kernel_size=(1, 1), stride=(2, 2), bias=False)\n",
       "          (1): BatchNorm2d(256, eps=1e-05, momentum=0.1, affine=True, track_running_stats=True)\n",
       "        )\n",
       "      )\n",
       "      (1): BasicBlock(\n",
       "        (conv1): Conv2d(256, 256, kernel_size=(3, 3), stride=(1, 1), padding=(1, 1), bias=False)\n",
       "        (bn1): BatchNorm2d(256, eps=1e-05, momentum=0.1, affine=True, track_running_stats=True)\n",
       "        (conv2): Conv2d(256, 256, kernel_size=(3, 3), stride=(1, 1), padding=(1, 1), bias=False)\n",
       "        (bn2): BatchNorm2d(256, eps=1e-05, momentum=0.1, affine=True, track_running_stats=True)\n",
       "        (shortcut): Sequential()\n",
       "      )\n",
       "    )\n",
       "    (layer4): Sequential(\n",
       "      (0): BasicBlock(\n",
       "        (conv1): Conv2d(256, 512, kernel_size=(3, 3), stride=(2, 2), padding=(1, 1), bias=False)\n",
       "        (bn1): BatchNorm2d(512, eps=1e-05, momentum=0.1, affine=True, track_running_stats=True)\n",
       "        (conv2): Conv2d(512, 512, kernel_size=(3, 3), stride=(1, 1), padding=(1, 1), bias=False)\n",
       "        (bn2): BatchNorm2d(512, eps=1e-05, momentum=0.1, affine=True, track_running_stats=True)\n",
       "        (shortcut): Sequential(\n",
       "          (0): Conv2d(256, 512, kernel_size=(1, 1), stride=(2, 2), bias=False)\n",
       "          (1): BatchNorm2d(512, eps=1e-05, momentum=0.1, affine=True, track_running_stats=True)\n",
       "        )\n",
       "      )\n",
       "      (1): BasicBlock(\n",
       "        (conv1): Conv2d(512, 512, kernel_size=(3, 3), stride=(1, 1), padding=(1, 1), bias=False)\n",
       "        (bn1): BatchNorm2d(512, eps=1e-05, momentum=0.1, affine=True, track_running_stats=True)\n",
       "        (conv2): Conv2d(512, 512, kernel_size=(3, 3), stride=(1, 1), padding=(1, 1), bias=False)\n",
       "        (bn2): BatchNorm2d(512, eps=1e-05, momentum=0.1, affine=True, track_running_stats=True)\n",
       "        (shortcut): Sequential()\n",
       "      )\n",
       "    )\n",
       "    (linear): Linear(in_features=512, out_features=10, bias=True)\n",
       "  )\n",
       ")"
      ]
     },
     "execution_count": 7,
     "metadata": {
      "tags": []
     },
     "output_type": "execute_result"
    }
   ],
   "source": [
    "net = ResNet18()\n",
    "net = net.to(device)\n",
    "if device == 'cuda':\n",
    "    net = torch.nn.DataParallel(net)\n",
    "    cudnn.benchmark = True\n",
    "\n",
    "optimizer =optim.SGD(net.parameters(), lr=lr,momentum=0.9, weight_decay=5e-4)\n",
    "scheduler = torch.optim.lr_scheduler.CosineAnnealingLR(optimizer, T_max=200)\n",
    "\n",
    "checkpoint = torch.load('hw3_resnet')\n",
    "net.load_state_dict(checkpoint['model_state_dict'])\n",
    "optimizer.load_state_dict(checkpoint['optimizer_state_dict'])\n",
    "epoch = checkpoint['epoch']\n",
    "criterion = checkpoint['loss']\n",
    "\n",
    "net.eval()\n",
    "# - or -\n",
    "# model.train()"
   ]
  },
  {
   "cell_type": "markdown",
   "metadata": {
    "id": "s29e791J9F0V"
   },
   "source": [
    "## Evaluating"
   ]
  },
  {
   "cell_type": "code",
   "execution_count": 8,
   "metadata": {
    "id": "Bsd2s6Kihysc"
   },
   "outputs": [],
   "source": [
    "imgloader = torch.utils.data.DataLoader(\n",
    "    testset, batch_size=100, shuffle=False, num_workers=2)\n",
    "dataiter = iter(imgloader)\n",
    "org_images, org_labels = dataiter.next()"
   ]
  },
  {
   "cell_type": "code",
   "execution_count": 9,
   "metadata": {
    "id": "_h4OjoPnFiAA"
   },
   "outputs": [],
   "source": [
    "org_labels = org_labels.to(device)\n",
    "org_images = org_images.to(device)\n",
    "outputs= net(org_images)\n",
    "_, predicted = torch.max(outputs.data, 1)"
   ]
  },
  {
   "cell_type": "code",
   "execution_count": 10,
   "metadata": {
    "colab": {
     "base_uri": "https://localhost:8080/",
     "height": 265
    },
    "id": "dEnJ2Vz2j8Zt",
    "outputId": "26cac999-0c24-4bc9-d612-682b3232ce93"
   },
   "outputs": [
    {
     "name": "stderr",
     "output_type": "stream",
     "text": [
      "Clipping input data to the valid range for imshow with RGB data ([0..1] for floats or [0..255] for integers).\n"
     ]
    },
    {
     "data": {
      "image/png": "[encoded data removed]",
      "text/plain": [
       "<Figure size 3600x3600 with 1 Axes>"
      ]
     },
     "metadata": {
      "needs_background": "light",
      "tags": []
     },
     "output_type": "display_data"
    }
   ],
   "source": [
    "def imshow(img,sz=50):\n",
    "    img = img / 2 + 0.5     # unnormalize\n",
    "    npimg = img.numpy()\n",
    "    plt.figure(figsize=(sz,sz))\n",
    "    plt.imshow(np.transpose(npimg, (1, 2, 0)))\n",
    "    plt.show()\n",
    "\n",
    "\n",
    "samples = []\n",
    "samples_labels = []\n",
    "samples_pred = []\n",
    "selected = [3,66,67,0,26,16,4,13,1,11]\n",
    "\n",
    "for i in selected:\n",
    "  samples.append(org_images[i])\n",
    "  samples_labels.append(org_labels[i])\n",
    "  samples_pred.append(outputs[i])\n",
    "samples = torch.stack(samples)\n",
    "samples_labels = torch.stack(samples_labels)\n",
    "samples_pred = torch.stack(samples_pred)\n",
    "imshow(torchvision.utils.make_grid(samples.cpu()))"
   ]
  },
  {
   "cell_type": "code",
   "execution_count": null,
   "metadata": {
    "colab": {
     "base_uri": "https://localhost:8080/"
    },
    "id": "CkV4Pcg40nbm",
    "outputId": "a379de4c-98b9-44da-fe48-3d46fad4eaad"
   },
   "outputs": [
    {
     "name": "stdout",
     "output_type": "stream",
     "text": [
      "ok\n"
     ]
    }
   ],
   "source": [
    "_, pred = torch.max(samples_pred.data, 1)\n",
    "\n",
    "if not torch.all(torch.eq(pred,samples_labels)) :\n",
    "  print(\"CAUTION: Your model was not sufficiently trained and contain an error. Retrain it!\")\n",
    "else:\n",
    "  print('ok')"
   ]
  },
  {
   "cell_type": "code",
   "execution_count": null,
   "metadata": {
    "colab": {
     "base_uri": "https://localhost:8080/"
    },
    "id": "oi0DhSEV52Y0",
    "outputId": "a609f285-30ea-4017-8461-b334db21af24"
   },
   "outputs": [
    {
     "data": {
      "text/plain": [
       "tensor([0, 1, 2, 3, 4, 5, 6, 7, 8, 9], device='cuda:0')"
      ]
     },
     "execution_count": 44,
     "metadata": {
      "tags": []
     },
     "output_type": "execute_result"
    }
   ],
   "source": [
    "samples_labels"
   ]
  },
  {
   "cell_type": "markdown",
   "metadata": {
    "id": "ZDWswzF_yRIU"
   },
   "source": [
    "# FGSM"
   ]
  },
  {
   "cell_type": "code",
   "execution_count": null,
   "metadata": {
    "id": "zLfqP8XT77cW"
   },
   "outputs": [],
   "source": [
    "base_eps = 1/255"
   ]
  },
  {
   "cell_type": "code",
   "execution_count": null,
   "metadata": {
    "id": "96PZLzYn8AYd"
   },
   "outputs": [],
   "source": [
    "def fgsm(x,targets,net,epsilon):\n",
    "    # Collect the element-wise sign of the data gradient\n",
    "    x.requires_grad = True\n",
    "    outputs= net(x)\n",
    "    net.zero_grad()\n",
    "    loss = criterion(outputs, targets)\n",
    "    loss.backward()\n",
    "    data_grad = x.grad.data\n",
    "    sign_data_grad = data_grad.sign()\n",
    "    perturbation = epsilon*sign_data_grad\n",
    "    perturbed_image = x + perturbation\n",
    "    outputs= net(perturbed_image)\n",
    "    return perturbed_image,perturbation,outputs"
   ]
  },
  {
   "cell_type": "code",
   "execution_count": null,
   "metadata": {
    "colab": {
     "base_uri": "https://localhost:8080/",
     "height": 1000
    },
    "id": "5FWcQJiS0UDg",
    "outputId": "14d05774-010f-41ab-e2db-d090a919ecfb"
   },
   "outputs": [
    {
     "name": "stderr",
     "output_type": "stream",
     "text": [
      "Clipping input data to the valid range for imshow with RGB data ([0..1] for floats or [0..255] for integers).\n"
     ]
    },
    {
     "name": "stdout",
     "output_type": "stream",
     "text": [
      "tensor([8], device='cuda:0') tensor([0], device='cuda:0')\n"
     ]
    },
    {
     "data": {
      "image/png": "[encoded data removed]",
      "text/plain": [
       "<Figure size 360x360 with 1 Axes>"
      ]
     },
     "metadata": {
      "needs_background": "light",
      "tags": []
     },
     "output_type": "display_data"
    },
    {
     "data": {
      "image/png": "[encoded data removed]",
      "text/plain": [
       "<Figure size 360x360 with 1 Axes>"
      ]
     },
     "metadata": {
      "needs_background": "light",
      "tags": []
     },
     "output_type": "display_data"
    },
    {
     "name": "stderr",
     "output_type": "stream",
     "text": [
      "Clipping input data to the valid range for imshow with RGB data ([0..1] for floats or [0..255] for integers).\n"
     ]
    },
    {
     "data": {
      "image/png": "[encoded data removed]",
      "text/plain": [
       "<Figure size 360x360 with 1 Axes>"
      ]
     },
     "metadata": {
      "needs_background": "light",
      "tags": []
     },
     "output_type": "display_data"
    },
    {
     "name": "stderr",
     "output_type": "stream",
     "text": [
      "Clipping input data to the valid range for imshow with RGB data ([0..1] for floats or [0..255] for integers).\n"
     ]
    },
    {
     "name": "stdout",
     "output_type": "stream",
     "text": [
      "tensor([8], device='cuda:0') tensor([1], device='cuda:0')\n"
     ]
    },
    {
     "data": {
      "image/png": "[encoded data removed]",
      "text/plain": [
       "<Figure size 360x360 with 1 Axes>"
      ]
     },
     "metadata": {
      "needs_background": "light",
      "tags": []
     },
     "output_type": "display_data"
    },
    {
     "data": {
      "image/png": "[encoded data removed]",
      "text/plain": [
       "<Figure size 360x360 with 1 Axes>"
      ]
     },
     "metadata": {
      "needs_background": "light",
      "tags": []
     },
     "output_type": "display_data"
    },
    {
     "name": "stderr",
     "output_type": "stream",
     "text": [
      "Clipping input data to the valid range for imshow with RGB data ([0..1] for floats or [0..255] for integers).\n"
     ]
    },
    {
     "data": {
      "image/png": "[encoded data removed]",
      "text/plain": [
       "<Figure size 360x360 with 1 Axes>"
      ]
     },
     "metadata": {
      "needs_background": "light",
      "tags": []
     },
     "output_type": "display_data"
    },
    {
     "name": "stderr",
     "output_type": "stream",
     "text": [
      "Clipping input data to the valid range for imshow with RGB data ([0..1] for floats or [0..255] for integers).\n"
     ]
    },
    {
     "name": "stdout",
     "output_type": "stream",
     "text": [
      "tensor([1], device='cuda:0') tensor([2], device='cuda:0')\n"
     ]
    },
    {
     "data": {
      "image/png": "[encoded data removed]",
      "text/plain": [
       "<Figure size 360x360 with 1 Axes>"
      ]
     },
     "metadata": {
      "needs_background": "light",
      "tags": []
     },
     "output_type": "display_data"
    },
    {
     "name": "stderr",
     "output_type": "stream",
     "text": [
      "Clipping input data to the valid range for imshow with RGB data ([0..1] for floats or [0..255] for integers).\n"
     ]
    },
    {
     "data": {
      "image/png": "[encoded data removed]",
      "text/plain": [
       "<Figure size 360x360 with 1 Axes>"
      ]
     },
     "metadata": {
      "needs_background": "light",
      "tags": []
     },
     "output_type": "display_data"
    },
    {
     "name": "stderr",
     "output_type": "stream",
     "text": [
      "Clipping input data to the valid range for imshow with RGB data ([0..1] for floats or [0..255] for integers).\n"
     ]
    },
    {
     "data": {
      "image/png": "[encoded data removed]",
      "text/plain": [
       "<Figure size 360x360 with 1 Axes>"
      ]
     },
     "metadata": {
      "needs_background": "light",
      "tags": []
     },
     "output_type": "display_data"
    },
    {
     "name": "stderr",
     "output_type": "stream",
     "text": [
      "Clipping input data to the valid range for imshow with RGB data ([0..1] for floats or [0..255] for integers).\n"
     ]
    },
    {
     "name": "stdout",
     "output_type": "stream",
     "text": [
      "tensor([1], device='cuda:0') tensor([3], device='cuda:0')\n"
     ]
    },
    {
     "data": {
      "image/png": "[encoded data removed]",
      "text/plain": [
       "<Figure size 360x360 with 1 Axes>"
      ]
     },
     "metadata": {
      "needs_background": "light",
      "tags": []
     },
     "output_type": "display_data"
    },
    {
     "data": {
      "image/png": "[encoded data removed]",
      "text/plain": [
       "<Figure size 360x360 with 1 Axes>"
      ]
     },
     "metadata": {
      "needs_background": "light",
      "tags": []
     },
     "output_type": "display_data"
    },
    {
     "name": "stderr",
     "output_type": "stream",
     "text": [
      "Clipping input data to the valid range for imshow with RGB data ([0..1] for floats or [0..255] for integers).\n"
     ]
    },
    {
     "data": {
      "image/png": "[encoded data removed]",
      "text/plain": [
       "<Figure size 360x360 with 1 Axes>"
      ]
     },
     "metadata": {
      "needs_background": "light",
      "tags": []
     },
     "output_type": "display_data"
    },
    {
     "name": "stderr",
     "output_type": "stream",
     "text": [
      "Clipping input data to the valid range for imshow with RGB data ([0..1] for floats or [0..255] for integers).\n"
     ]
    },
    {
     "name": "stdout",
     "output_type": "stream",
     "text": [
      "tensor([3], device='cuda:0') tensor([4], device='cuda:0')\n"
     ]
    },
    {
     "data": {
      "image/png": "[encoded data removed]",
      "text/plain": [
       "<Figure size 360x360 with 1 Axes>"
      ]
     },
     "metadata": {
      "needs_background": "light",
      "tags": []
     },
     "output_type": "display_data"
    },
    {
     "data": {
      "image/png": "[encoded data removed]",
      "text/plain": [
       "<Figure size 360x360 with 1 Axes>"
      ]
     },
     "metadata": {
      "needs_background": "light",
      "tags": []
     },
     "output_type": "display_data"
    },
    {
     "name": "stderr",
     "output_type": "stream",
     "text": [
      "Clipping input data to the valid range for imshow with RGB data ([0..1] for floats or [0..255] for integers).\n"
     ]
    },
    {
     "data": {
      "image/png": "[encoded data removed]",
      "text/plain": [
       "<Figure size 360x360 with 1 Axes>"
      ]
     },
     "metadata": {
      "needs_background": "light",
      "tags": []
     },
     "output_type": "display_data"
    },
    {
     "name": "stderr",
     "output_type": "stream",
     "text": [
      "Clipping input data to the valid range for imshow with RGB data ([0..1] for floats or [0..255] for integers).\n"
     ]
    },
    {
     "name": "stdout",
     "output_type": "stream",
     "text": [
      "tensor([7], device='cuda:0') tensor([5], device='cuda:0')\n"
     ]
    },
    {
     "data": {
      "image/png": "[encoded data removed]",
      "text/plain": [
       "<Figure size 360x360 with 1 Axes>"
      ]
     },
     "metadata": {
      "needs_background": "light",
      "tags": []
     },
     "output_type": "display_data"
    },
    {
     "data": {
      "image/png": "[encoded data removed]",
      "text/plain": [
       "<Figure size 360x360 with 1 Axes>"
      ]
     },
     "metadata": {
      "needs_background": "light",
      "tags": []
     },
     "output_type": "display_data"
    },
    {
     "name": "stderr",
     "output_type": "stream",
     "text": [
      "Clipping input data to the valid range for imshow with RGB data ([0..1] for floats or [0..255] for integers).\n"
     ]
    },
    {
     "data": {
      "image/png": "[encoded data removed]",
      "text/plain": [
       "<Figure size 360x360 with 1 Axes>"
      ]
     },
     "metadata": {
      "needs_background": "light",
      "tags": []
     },
     "output_type": "display_data"
    },
    {
     "name": "stderr",
     "output_type": "stream",
     "text": [
      "Clipping input data to the valid range for imshow with RGB data ([0..1] for floats or [0..255] for integers).\n"
     ]
    },
    {
     "name": "stdout",
     "output_type": "stream",
     "text": [
      "tensor([9], device='cuda:0') tensor([6], device='cuda:0')\n"
     ]
    },
    {
     "data": {
      "image/png": "[encoded data removed]",
      "text/plain": [
       "<Figure size 360x360 with 1 Axes>"
      ]
     },
     "metadata": {
      "needs_background": "light",
      "tags": []
     },
     "output_type": "display_data"
    },
    {
     "name": "stderr",
     "output_type": "stream",
     "text": [
      "Clipping input data to the valid range for imshow with RGB data ([0..1] for floats or [0..255] for integers).\n"
     ]
    },
    {
     "data": {
      "image/png": "[encoded data removed]",
      "text/plain": [
       "<Figure size 360x360 with 1 Axes>"
      ]
     },
     "metadata": {
      "needs_background": "light",
      "tags": []
     },
     "output_type": "display_data"
    },
    {
     "name": "stderr",
     "output_type": "stream",
     "text": [
      "Clipping input data to the valid range for imshow with RGB data ([0..1] for floats or [0..255] for integers).\n"
     ]
    },
    {
     "data": {
      "image/png": "[encoded data removed]",
      "text/plain": [
       "<Figure size 360x360 with 1 Axes>"
      ]
     },
     "metadata": {
      "needs_background": "light",
      "tags": []
     },
     "output_type": "display_data"
    },
    {
     "name": "stderr",
     "output_type": "stream",
     "text": [
      "Clipping input data to the valid range for imshow with RGB data ([0..1] for floats or [0..255] for integers).\n"
     ]
    },
    {
     "name": "stdout",
     "output_type": "stream",
     "text": [
      "tensor([3], device='cuda:0') tensor([7], device='cuda:0')\n"
     ]
    },
    {
     "data": {
      "image/png": "[encoded data removed]",
      "text/plain": [
       "<Figure size 360x360 with 1 Axes>"
      ]
     },
     "metadata": {
      "needs_background": "light",
      "tags": []
     },
     "output_type": "display_data"
    },
    {
     "data": {
      "image/png": "[encoded data removed]",
      "text/plain": [
       "<Figure size 360x360 with 1 Axes>"
      ]
     },
     "metadata": {
      "needs_background": "light",
      "tags": []
     },
     "output_type": "display_data"
    },
    {
     "name": "stderr",
     "output_type": "stream",
     "text": [
      "Clipping input data to the valid range for imshow with RGB data ([0..1] for floats or [0..255] for integers).\n"
     ]
    },
    {
     "data": {
      "image/png": "[encoded data removed]",
      "text/plain": [
       "<Figure size 360x360 with 1 Axes>"
      ]
     },
     "metadata": {
      "needs_background": "light",
      "tags": []
     },
     "output_type": "display_data"
    },
    {
     "name": "stderr",
     "output_type": "stream",
     "text": [
      "Clipping input data to the valid range for imshow with RGB data ([0..1] for floats or [0..255] for integers).\n"
     ]
    },
    {
     "name": "stdout",
     "output_type": "stream",
     "text": [
      "tensor([1], device='cuda:0') tensor([8], device='cuda:0')\n"
     ]
    },
    {
     "data": {
      "image/png": "[encoded data removed]",
      "text/plain": [
       "<Figure size 360x360 with 1 Axes>"
      ]
     },
     "metadata": {
      "needs_background": "light",
      "tags": []
     },
     "output_type": "display_data"
    },
    {
     "data": {
      "image/png": "[encoded data removed]",
      "text/plain": [
       "<Figure size 360x360 with 1 Axes>"
      ]
     },
     "metadata": {
      "needs_background": "light",
      "tags": []
     },
     "output_type": "display_data"
    },
    {
     "name": "stderr",
     "output_type": "stream",
     "text": [
      "Clipping input data to the valid range for imshow with RGB data ([0..1] for floats or [0..255] for integers).\n"
     ]
    },
    {
     "data": {
      "image/png": "[encoded data removed]",
      "text/plain": [
       "<Figure size 360x360 with 1 Axes>"
      ]
     },
     "metadata": {
      "needs_background": "light",
      "tags": []
     },
     "output_type": "display_data"
    },
    {
     "name": "stderr",
     "output_type": "stream",
     "text": [
      "Clipping input data to the valid range for imshow with RGB data ([0..1] for floats or [0..255] for integers).\n"
     ]
    },
    {
     "name": "stdout",
     "output_type": "stream",
     "text": [
      "tensor([1], device='cuda:0') tensor([9], device='cuda:0')\n"
     ]
    },
    {
     "data": {
      "image/png": "[encoded data removed]",
      "text/plain": [
       "<Figure size 360x360 with 1 Axes>"
      ]
     },
     "metadata": {
      "needs_background": "light",
      "tags": []
     },
     "output_type": "display_data"
    },
    {
     "data": {
      "image/png": "[encoded data removed]",
      "text/plain": [
       "<Figure size 360x360 with 1 Axes>"
      ]
     },
     "metadata": {
      "needs_background": "light",
      "tags": []
     },
     "output_type": "display_data"
    },
    {
     "name": "stderr",
     "output_type": "stream",
     "text": [
      "Clipping input data to the valid range for imshow with RGB data ([0..1] for floats or [0..255] for integers).\n"
     ]
    },
    {
     "data": {
      "image/png": "[encoded data removed]",
      "text/plain": [
       "<Figure size 360x360 with 1 Axes>"
      ]
     },
     "metadata": {
      "needs_background": "light",
      "tags": []
     },
     "output_type": "display_data"
    }
   ],
   "source": [
    "\n",
    "for i in selected:\n",
    "  image = org_images[i:i+1]\n",
    "  targets = org_labels[i:i+1]\n",
    "  eps = base_eps\n",
    "  success = False\n",
    "  while not success:\n",
    "    perturbed_image,perturbation,outputs = fgsm(image,targets,net,eps)\n",
    "    _, predicted = torch.max(outputs.data, 1)\n",
    "    if predicted!=targets:\n",
    "      success = True\n",
    "      print(predicted,targets)\n",
    "      imshow(image[0].detach().cpu(),5)\n",
    "      imshow((perturbation[0]*(1/eps)).detach().cpu(),5)\n",
    "      imshow(perturbed_image[0].detach().cpu(),5)\n",
    "    eps += base_eps"
   ]
  },
  {
   "cell_type": "markdown",
   "metadata": {
    "id": "BCxNdL1_Cg44"
   },
   "source": [
    "# FGSM Adversarial Trainig"
   ]
  },
  {
   "cell_type": "code",
   "execution_count": null,
   "metadata": {
    "colab": {
     "base_uri": "https://localhost:8080/"
    },
    "id": "6kAViJtg7qoo",
    "outputId": "96cdb455-b37a-4596-9d2e-1462eaedb7a8"
   },
   "outputs": [
    {
     "name": "stdout",
     "output_type": "stream",
     "text": [
      "==> Building model..\n"
     ]
    }
   ],
   "source": [
    "# Model\n",
    "print('==> Building model..')\n",
    "adv_net = ResNet18()\n",
    "adv_net = adv_net.to(device)\n",
    "if device == 'cuda':\n",
    "    adv_net = torch.nn.DataParallel(adv_net)\n",
    "    cudnn.benchmark = True\n",
    "\n",
    "criterion = nn.CrossEntropyLoss()\n",
    "optimizer = optim.SGD(adv_net.parameters(), lr=lr,\n",
    "                      momentum=0.9, weight_decay=5e-4)\n",
    "scheduler = torch.optim.lr_scheduler.CosineAnnealingLR(optimizer, T_max=200)"
   ]
  },
  {
   "cell_type": "code",
   "execution_count": null,
   "metadata": {
    "colab": {
     "base_uri": "https://localhost:8080/"
    },
    "id": "isLC5EcICgYB",
    "outputId": "137124e3-22b2-4b7c-cb9b-44436a695747"
   },
   "outputs": [
    {
     "name": "stdout",
     "output_type": "stream",
     "text": [
      "\n",
      "Epoch: 0\n",
      "\n",
      "Epoch: 1\n",
      "\n",
      "Epoch: 2\n",
      "\n",
      "Epoch: 3\n",
      "\n",
      "Epoch: 4\n",
      "\n",
      "Epoch: 5\n",
      "\n",
      "Epoch: 6\n",
      "\n",
      "Epoch: 7\n",
      "\n",
      "Epoch: 8\n",
      "\n",
      "Epoch: 9\n",
      "\n",
      "Epoch: 10\n",
      "\n",
      "Epoch: 11\n",
      "\n",
      "Epoch: 12\n",
      "\n",
      "Epoch: 13\n",
      "\n",
      "Epoch: 14\n",
      "\n",
      "Epoch: 15\n",
      "\n",
      "Epoch: 16\n",
      "\n",
      "Epoch: 17\n",
      "\n",
      "Epoch: 18\n",
      "\n",
      "Epoch: 19\n",
      "\n",
      "Epoch: 20\n",
      "\n",
      "Epoch: 21\n",
      "\n",
      "Epoch: 22\n",
      "\n",
      "Epoch: 23\n",
      "\n",
      "Epoch: 24\n",
      "\n",
      "Epoch: 25\n",
      "\n",
      "Epoch: 26\n",
      "\n",
      "Epoch: 27\n",
      "\n",
      "Epoch: 28\n",
      "\n",
      "Epoch: 29\n",
      "\n",
      "Epoch: 30\n",
      "\n",
      "Epoch: 31\n",
      "\n",
      "Epoch: 32\n",
      "\n",
      "Epoch: 33\n",
      "\n",
      "Epoch: 34\n",
      "\n",
      "Epoch: 35\n",
      "\n",
      "Epoch: 36\n",
      "\n",
      "Epoch: 37\n",
      "\n",
      "Epoch: 38\n",
      "\n",
      "Epoch: 39\n",
      "Accuracy of the network on the test images: 88 %\n"
     ]
    }
   ],
   "source": [
    "eps = 8/255\n",
    "# Training\n",
    "def adversarially_train(epoch):\n",
    "    print('\\nEpoch: %d' % epoch)\n",
    "    adv_net.train()\n",
    "    train_loss = 0\n",
    "    correct = 0\n",
    "    total = 0\n",
    "    for batch_idx, (inputs, targets) in enumerate(trainloader):\n",
    "        inputs, targets = inputs.to(device), targets.to(device)\n",
    "        perturbed_image,perturbation,outputs = fgsm(inputs,targets,adv_net,eps)\n",
    "        optimizer.zero_grad()\n",
    "        # outputs = adv_net(perturbed_image)\n",
    "        loss = criterion(outputs, targets)\n",
    "        loss.backward()\n",
    "        optimizer.step()\n",
    "\n",
    "        train_loss += loss.item()\n",
    "        _, predicted = outputs.max(1)\n",
    "        total += targets.size(0)\n",
    "        correct += predicted.eq(targets).sum().item()\n",
    "    return train_loss\n",
    "\n",
    "\n",
    "def test(epoch):\n",
    "    global acc\n",
    "    adv_net.eval()\n",
    "    test_loss = 0\n",
    "    correct = 0\n",
    "    total = 0\n",
    "    with torch.no_grad():\n",
    "        for batch_idx, (inputs, targets) in enumerate(testloader):\n",
    "            inputs, targets = inputs.to(device), targets.to(device)\n",
    "            outputs = adv_net(inputs)\n",
    "            loss = criterion(outputs, targets)\n",
    "\n",
    "            test_loss += loss.item()\n",
    "            _, predicted = outputs.max(1)\n",
    "            total += targets.size(0)\n",
    "            correct += predicted.eq(targets).sum().item()\n",
    "    acc = 100 * correct / total\n",
    "    return test_loss\n",
    "\n",
    "train_losses = []\n",
    "test_losses = []\n",
    "\n",
    "for epoch in range(0,40):\n",
    "    trl = adversarially_train(epoch)\n",
    "    train_losses.append(trl)\n",
    "    tstl = test(epoch)\n",
    "    test_losses.append(tstl)\n",
    "    scheduler.step()\n",
    "\n",
    "print('Accuracy of the network on the test images: %d %%' % (acc))"
   ]
  },
  {
   "cell_type": "code",
   "execution_count": null,
   "metadata": {
    "colab": {
     "base_uri": "https://localhost:8080/",
     "height": 318
    },
    "id": "QkR5YGzoL9Zk",
    "outputId": "e390df49-aada-47ac-bbd2-e872b9d18093"
   },
   "outputs": [
    {
     "name": "stdout",
     "output_type": "stream",
     "text": [
      "[714.628783583641, 584.8507264852524, 507.5045816898346, 447.8996077775955, 411.20979833602905, 380.1934584379196, 355.85337966680527, 334.25410878658295, 319.07600528001785, 302.58516013622284, 292.6423625946045, 280.4706629514694, 269.1276872754097, 257.30746310949326, 249.09214034676552, 242.3584949374199, 233.56158593297005, 226.93227899074554, 218.62197482585907, 210.92040899395943, 207.24544423818588, 199.7695226073265, 195.10069102048874, 189.07051500678062, 182.747772783041, 177.14118167757988, 171.53977173566818, 166.93287816643715, 162.04824101924896, 158.6555352807045, 152.3795501291752, 148.36449451744556, 143.88113121688366, 138.90886710584164, 136.72780250012875, 133.00195279717445, 128.41164496541023, 124.78159722685814, 120.52016554772854, 116.34048311412334]\n",
      "[140.78008198738098, 115.99366664886475, 104.88261198997498, 81.33173429965973, 80.39066457748413, 70.1724671125412, 61.47028782963753, 61.64246329665184, 57.76728814840317, 56.166270434856415, 51.591216415166855, 50.575056821107864, 47.09863469004631, 46.46782249212265, 48.630933195352554, 45.59578558802605, 43.40907230973244, 41.273302152752876, 39.60052616894245, 40.273971766233444, 42.62106254696846, 38.637351259589195, 39.53644181787968, 41.539949506521225, 37.82990391552448, 34.61967058479786, 35.98905310034752, 35.04177576303482, 34.67563810944557, 34.44397860765457, 32.92791444063187, 33.10479463636875, 33.998751163482666, 34.06530265510082, 33.95645223557949, 32.54533405601978, 32.80986516177654, 32.303760692477226, 33.049548506736755, 32.12723007798195]\n"
     ]
    },
    {
     "data": {
      "image/png": "[encoded data removed]",
      "text/plain": [
       "<Figure size 432x288 with 1 Axes>"
      ]
     },
     "metadata": {
      "needs_background": "light",
      "tags": []
     },
     "output_type": "display_data"
    }
   ],
   "source": [
    "import matplotlib.pyplot as plt\n",
    "print(train_losses)\n",
    "print(test_losses)\n",
    "plt.plot(train_losses,label='train loss')\n",
    "plt.plot(test_losses,label='test loss')\n",
    "plt.ylabel('Loss value')\n",
    "plt.legend()\n",
    "plt.show()"
   ]
  },
  {
   "cell_type": "markdown",
   "metadata": {
    "id": "_9tStA_Gx6tl"
   },
   "source": [
    "### Train loss is bigger in FGSM avd. training compared to natural traning\n"
   ]
  },
  {
   "cell_type": "markdown",
   "metadata": {
    "id": "qd3IUi5JMYeV"
   },
   "source": [
    "## saving "
   ]
  },
  {
   "cell_type": "code",
   "execution_count": null,
   "metadata": {
    "id": "zYOsyYpiMaRa"
   },
   "outputs": [],
   "source": [
    "torch.save({\n",
    "            'epoch': epoch,\n",
    "            'model_state_dict': adv_net.state_dict(),\n",
    "            'optimizer_state_dict': optimizer.state_dict(),\n",
    "            'loss': criterion,\n",
    "            }, 'hw3_resnet_adv_trained')"
   ]
  },
  {
   "cell_type": "markdown",
   "metadata": {
    "id": "Mg76kMQ2Mh33"
   },
   "source": [
    "## loading"
   ]
  },
  {
   "cell_type": "code",
   "execution_count": 11,
   "metadata": {
    "colab": {
     "base_uri": "https://localhost:8080/"
    },
    "id": "_sJqZuzUMjZe",
    "outputId": "b2cb937b-5a0f-4043-c8d3-119f609216a2"
   },
   "outputs": [
    {
     "data": {
      "text/plain": [
       "DataParallel(\n",
       "  (module): ResNet(\n",
       "    (conv1): Conv2d(3, 64, kernel_size=(3, 3), stride=(1, 1), padding=(1, 1), bias=False)\n",
       "    (bn1): BatchNorm2d(64, eps=1e-05, momentum=0.1, affine=True, track_running_stats=True)\n",
       "    (layer1): Sequential(\n",
       "      (0): BasicBlock(\n",
       "        (conv1): Conv2d(64, 64, kernel_size=(3, 3), stride=(1, 1), padding=(1, 1), bias=False)\n",
       "        (bn1): BatchNorm2d(64, eps=1e-05, momentum=0.1, affine=True, track_running_stats=True)\n",
       "        (conv2): Conv2d(64, 64, kernel_size=(3, 3), stride=(1, 1), padding=(1, 1), bias=False)\n",
       "        (bn2): BatchNorm2d(64, eps=1e-05, momentum=0.1, affine=True, track_running_stats=True)\n",
       "        (shortcut): Sequential()\n",
       "      )\n",
       "      (1): BasicBlock(\n",
       "        (conv1): Conv2d(64, 64, kernel_size=(3, 3), stride=(1, 1), padding=(1, 1), bias=False)\n",
       "        (bn1): BatchNorm2d(64, eps=1e-05, momentum=0.1, affine=True, track_running_stats=True)\n",
       "        (conv2): Conv2d(64, 64, kernel_size=(3, 3), stride=(1, 1), padding=(1, 1), bias=False)\n",
       "        (bn2): BatchNorm2d(64, eps=1e-05, momentum=0.1, affine=True, track_running_stats=True)\n",
       "        (shortcut): Sequential()\n",
       "      )\n",
       "    )\n",
       "    (layer2): Sequential(\n",
       "      (0): BasicBlock(\n",
       "        (conv1): Conv2d(64, 128, kernel_size=(3, 3), stride=(2, 2), padding=(1, 1), bias=False)\n",
       "        (bn1): BatchNorm2d(128, eps=1e-05, momentum=0.1, affine=True, track_running_stats=True)\n",
       "        (conv2): Conv2d(128, 128, kernel_size=(3, 3), stride=(1, 1), padding=(1, 1), bias=False)\n",
       "        (bn2): BatchNorm2d(128, eps=1e-05, momentum=0.1, affine=True, track_running_stats=True)\n",
       "        (shortcut): Sequential(\n",
       "          (0): Conv2d(64, 128, kernel_size=(1, 1), stride=(2, 2), bias=False)\n",
       "          (1): BatchNorm2d(128, eps=1e-05, momentum=0.1, affine=True, track_running_stats=True)\n",
       "        )\n",
       "      )\n",
       "      (1): BasicBlock(\n",
       "        (conv1): Conv2d(128, 128, kernel_size=(3, 3), stride=(1, 1), padding=(1, 1), bias=False)\n",
       "        (bn1): BatchNorm2d(128, eps=1e-05, momentum=0.1, affine=True, track_running_stats=True)\n",
       "        (conv2): Conv2d(128, 128, kernel_size=(3, 3), stride=(1, 1), padding=(1, 1), bias=False)\n",
       "        (bn2): BatchNorm2d(128, eps=1e-05, momentum=0.1, affine=True, track_running_stats=True)\n",
       "        (shortcut): Sequential()\n",
       "      )\n",
       "    )\n",
       "    (layer3): Sequential(\n",
       "      (0): BasicBlock(\n",
       "        (conv1): Conv2d(128, 256, kernel_size=(3, 3), stride=(2, 2), padding=(1, 1), bias=False)\n",
       "        (bn1): BatchNorm2d(256, eps=1e-05, momentum=0.1, affine=True, track_running_stats=True)\n",
       "        (conv2): Conv2d(256, 256, kernel_size=(3, 3), stride=(1, 1), padding=(1, 1), bias=False)\n",
       "        (bn2): BatchNorm2d(256, eps=1e-05, momentum=0.1, affine=True, track_running_stats=True)\n",
       "        (shortcut): Sequential(\n",
       "          (0): Conv2d(128, 256, kernel_size=(1, 1), stride=(2, 2), bias=False)\n",
       "          (1): BatchNorm2d(256, eps=1e-05, momentum=0.1, affine=True, track_running_stats=True)\n",
       "        )\n",
       "      )\n",
       "      (1): BasicBlock(\n",
       "        (conv1): Conv2d(256, 256, kernel_size=(3, 3), stride=(1, 1), padding=(1, 1), bias=False)\n",
       "        (bn1): BatchNorm2d(256, eps=1e-05, momentum=0.1, affine=True, track_running_stats=True)\n",
       "        (conv2): Conv2d(256, 256, kernel_size=(3, 3), stride=(1, 1), padding=(1, 1), bias=False)\n",
       "        (bn2): BatchNorm2d(256, eps=1e-05, momentum=0.1, affine=True, track_running_stats=True)\n",
       "        (shortcut): Sequential()\n",
       "      )\n",
       "    )\n",
       "    (layer4): Sequential(\n",
       "      (0): BasicBlock(\n",
       "        (conv1): Conv2d(256, 512, kernel_size=(3, 3), stride=(2, 2), padding=(1, 1), bias=False)\n",
       "        (bn1): BatchNorm2d(512, eps=1e-05, momentum=0.1, affine=True, track_running_stats=True)\n",
       "        (conv2): Conv2d(512, 512, kernel_size=(3, 3), stride=(1, 1), padding=(1, 1), bias=False)\n",
       "        (bn2): BatchNorm2d(512, eps=1e-05, momentum=0.1, affine=True, track_running_stats=True)\n",
       "        (shortcut): Sequential(\n",
       "          (0): Conv2d(256, 512, kernel_size=(1, 1), stride=(2, 2), bias=False)\n",
       "          (1): BatchNorm2d(512, eps=1e-05, momentum=0.1, affine=True, track_running_stats=True)\n",
       "        )\n",
       "      )\n",
       "      (1): BasicBlock(\n",
       "        (conv1): Conv2d(512, 512, kernel_size=(3, 3), stride=(1, 1), padding=(1, 1), bias=False)\n",
       "        (bn1): BatchNorm2d(512, eps=1e-05, momentum=0.1, affine=True, track_running_stats=True)\n",
       "        (conv2): Conv2d(512, 512, kernel_size=(3, 3), stride=(1, 1), padding=(1, 1), bias=False)\n",
       "        (bn2): BatchNorm2d(512, eps=1e-05, momentum=0.1, affine=True, track_running_stats=True)\n",
       "        (shortcut): Sequential()\n",
       "      )\n",
       "    )\n",
       "    (linear): Linear(in_features=512, out_features=10, bias=True)\n",
       "  )\n",
       ")"
      ]
     },
     "execution_count": 11,
     "metadata": {
      "tags": []
     },
     "output_type": "execute_result"
    }
   ],
   "source": [
    "adv_net = ResNet18()\n",
    "adv_net = adv_net.to(device)\n",
    "if device == 'cuda':\n",
    "    adv_net = torch.nn.DataParallel(adv_net)\n",
    "    cudnn.benchmark = True\n",
    "\n",
    "optimizer =optim.SGD(adv_net.parameters(), lr=lr,momentum=0.9, weight_decay=5e-4)\n",
    "scheduler = torch.optim.lr_scheduler.CosineAnnealingLR(optimizer, T_max=200)\n",
    "\n",
    "checkpoint = torch.load('hw3_resnet_adv_trained')\n",
    "adv_net.load_state_dict(checkpoint['model_state_dict'])\n",
    "optimizer.load_state_dict(checkpoint['optimizer_state_dict'])\n",
    "epoch = checkpoint['epoch']\n",
    "criterion = checkpoint['loss']\n",
    "\n",
    "adv_net.eval()\n",
    "# - or -\n",
    "# model.train()"
   ]
  },
  {
   "cell_type": "markdown",
   "metadata": {
    "id": "sZtNJPp_MzHn"
   },
   "source": [
    "## attacking"
   ]
  },
  {
   "cell_type": "code",
   "execution_count": null,
   "metadata": {
    "colab": {
     "base_uri": "https://localhost:8080/"
    },
    "id": "julqNe3OMqOG",
    "outputId": "960a4597-0700-43ad-db41-4fd4b9aa3533"
   },
   "outputs": [
    {
     "name": "stdout",
     "output_type": "stream",
     "text": [
      "Eps: 0.01568627450980392\n",
      "85 15\n",
      "0.85\n",
      "--------\n",
      "Eps: 0.03137254901960784\n",
      "80 20\n",
      "0.8\n",
      "--------\n",
      "Eps: 0.047058823529411764\n",
      "73 27\n",
      "0.73\n",
      "--------\n"
     ]
    }
   ],
   "source": [
    "attack_eps = [4/255,8/255,12/255]\n",
    "for att_eps in attack_eps:\n",
    "  print('Eps:',att_eps)\n",
    "  wrong = 0\n",
    "  correct = 0\n",
    "  for i in range(len(org_images)):\n",
    "    image = org_images[i:i+1]\n",
    "    targets = org_labels[i:i+1]\n",
    "    eps = base_eps\n",
    "    perturbed_image,perturbation,outputs = fgsm(image,targets,adv_net,att_eps)\n",
    "    # outputs= adv_net(perturbed_image)\n",
    "    _, predicted = torch.max(outputs.data, 1)\n",
    "    \n",
    "    if predicted==targets:\n",
    "      correct+=1\n",
    "    else:\n",
    "      wrong+=1\n",
    "  print(correct,wrong)\n",
    "  print(correct/(correct+wrong))\n",
    "  print('--------')"
   ]
  },
  {
   "cell_type": "markdown",
   "metadata": {
    "id": "Rc7hCqQ5VBDP"
   },
   "source": [
    "# Random Attack"
   ]
  },
  {
   "cell_type": "markdown",
   "metadata": {
    "id": "5gVCAbVdPvvl"
   },
   "source": [
    "## on Naturally Trained"
   ]
  },
  {
   "cell_type": "code",
   "execution_count": null,
   "metadata": {
    "colab": {
     "base_uri": "https://localhost:8080/"
    },
    "id": "lbLLmv9gPz7X",
    "outputId": "c504f151-5367-434e-ec95-635a6e35054b"
   },
   "outputs": [
    {
     "name": "stdout",
     "output_type": "stream",
     "text": [
      "89 11\n",
      "0.89\n",
      "--------\n"
     ]
    }
   ],
   "source": [
    "\n",
    "wrong = 0\n",
    "correct = 0\n",
    "for i in range(len(org_images)):\n",
    "  image = org_images[i:i+1]\n",
    "  targets = org_labels[i:i+1]\n",
    "  eps = base_eps\n",
    "  perturbation = torch.normal(8/255, 1/255, size=image.shape).to(device)\n",
    "  perturbed_image = image + perturbation\n",
    "  outputs= net(perturbed_image)\n",
    "  _, predicted = torch.max(outputs.data, 1)\n",
    "  if predicted==targets:\n",
    "    correct+=1\n",
    "  else:\n",
    "    wrong+=1\n",
    "print(correct,wrong)\n",
    "print(correct/(correct+wrong))\n",
    "print('--------')"
   ]
  },
  {
   "cell_type": "markdown",
   "metadata": {
    "id": "D9ira0P3VElM"
   },
   "source": [
    "## on Adversarialy Trained"
   ]
  },
  {
   "cell_type": "code",
   "execution_count": null,
   "metadata": {
    "colab": {
     "base_uri": "https://localhost:8080/"
    },
    "id": "dKFPMG5JVC-t",
    "outputId": "56500fda-6e4c-477e-8410-d34be05c9bcd"
   },
   "outputs": [
    {
     "name": "stdout",
     "output_type": "stream",
     "text": [
      "93 7\n",
      "0.93\n",
      "--------\n"
     ]
    }
   ],
   "source": [
    "\n",
    "wrong = 0\n",
    "correct = 0\n",
    "for i in range(len(org_images)):\n",
    "  image = org_images[i:i+1]\n",
    "  targets = org_labels[i:i+1]\n",
    "  eps = base_eps\n",
    "  perturbation = torch.normal(8/255, 1/255, size=image.shape).to(device)\n",
    "  perturbed_image = image + perturbation\n",
    "  outputs= adv_net(perturbed_image)\n",
    "  _, predicted = torch.max(outputs.data, 1)\n",
    "  if predicted==targets:\n",
    "    correct+=1\n",
    "  else:\n",
    "    wrong+=1\n",
    "print(correct,wrong)\n",
    "print(correct/(correct+wrong))\n",
    "print('--------')"
   ]
  },
  {
   "cell_type": "markdown",
   "metadata": {
    "id": "k513-DWTxg_Y"
   },
   "source": [
    "### FGSM is stronger than random attack"
   ]
  },
  {
   "cell_type": "markdown",
   "metadata": {
    "id": "wESUndNoQ_yB"
   },
   "source": [
    "# Targeted FGSM"
   ]
  },
  {
   "cell_type": "markdown",
   "metadata": {
    "id": "OfvOTOPXyhMw"
   },
   "source": []
  },
  {
   "cell_type": "code",
   "execution_count": null,
   "metadata": {
    "id": "F-PaK-JQRD49"
   },
   "outputs": [],
   "source": [
    "def targeted_fgsm(x,targets,net,epsilon):\n",
    "\n",
    "    x.requires_grad = True\n",
    "    outputs= net(x)\n",
    "    net.zero_grad()\n",
    "    loss = criterion(outputs, targets)\n",
    "    loss.backward()\n",
    "    data_grad = x.grad.data\n",
    "    sign_data_grad = data_grad.sign()\n",
    "    perturbation = epsilon*sign_data_grad\n",
    "    perturbed_image = x - perturbation\n",
    "    outputs = net(perturbed_image)\n",
    "    return perturbed_image, perturbation, outputs"
   ]
  },
  {
   "cell_type": "markdown",
   "metadata": {
    "id": "wtpnHoGrUZeB"
   },
   "source": [
    "## Target to Most Probable"
   ]
  },
  {
   "cell_type": "markdown",
   "metadata": {
    "id": "ELq4lXb5T8Wp"
   },
   "source": [
    "### Targeted on Naturaly Trained"
   ]
  },
  {
   "cell_type": "code",
   "execution_count": null,
   "metadata": {
    "colab": {
     "base_uri": "https://localhost:8080/"
    },
    "id": "6LzVc9RCSRFp",
    "outputId": "b827bcc9-2381-4dc0-d7cf-b63c7b29d07f"
   },
   "outputs": [
    {
     "name": "stdout",
     "output_type": "stream",
     "text": [
      "31 69\n",
      "0.31\n",
      "--------\n"
     ]
    }
   ],
   "source": [
    "attack_eps = 8/255\n",
    "\n",
    "wrong = 0\n",
    "correct = 0\n",
    "for i in range(len(org_images)):\n",
    "  image = org_images[i:i+1]\n",
    "  targets = org_labels[i:i+1]\n",
    "  eps = base_eps\n",
    "  outputs= net(image)\n",
    "  _, predicted = torch.max(outputs.data, 1)\n",
    "  outputs.data[0,targets[0]] = -1000\n",
    "  _, predicted = torch.max(outputs.data, 1)\n",
    "  perturbed_image,perturbation,outputs = targeted_fgsm(image,predicted,net,attack_eps)\n",
    "  # outputs= net(perturbed_image)\n",
    "  _, predicted = torch.max(outputs.data, 1)\n",
    "  if predicted==targets:\n",
    "    correct+=1\n",
    "  else:\n",
    "    wrong+=1\n",
    "print(correct,wrong)\n",
    "print(correct/(correct+wrong))\n",
    "print('--------')"
   ]
  },
  {
   "cell_type": "markdown",
   "metadata": {
    "id": "vwDx5VbrUDJq"
   },
   "source": [
    "### Targeted on Adversarially Trained"
   ]
  },
  {
   "cell_type": "code",
   "execution_count": null,
   "metadata": {
    "colab": {
     "base_uri": "https://localhost:8080/"
    },
    "id": "T-CfpQ_0UHzC",
    "outputId": "d2140b89-62c2-4cf2-c770-905b03dc4a9f"
   },
   "outputs": [
    {
     "name": "stdout",
     "output_type": "stream",
     "text": [
      "80 20\n",
      "0.8\n",
      "--------\n"
     ]
    }
   ],
   "source": [
    "attack_eps = 8/255\n",
    "\n",
    "wrong = 0\n",
    "correct = 0\n",
    "for i in range(len(org_images)):\n",
    "  image = org_images[i:i+1]\n",
    "  targets = org_labels[i:i+1]\n",
    "  eps = base_eps\n",
    "  outputs= adv_net(image)\n",
    "\n",
    "  _, predicted = torch.max(outputs.data, 1)\n",
    "  outputs.data[0,targets[0]] = -1000\n",
    "  _, predicted = torch.max(outputs.data, 1)\n",
    "  perturbed_image,perturbation,outputs = targeted_fgsm(image,predicted,adv_net,attack_eps)\n",
    "  # outputs= adv_net(perturbed_image)\n",
    "  _, predicted = torch.max(outputs.data, 1)\n",
    "  if predicted==targets:\n",
    "    correct+=1\n",
    "  else:\n",
    "    wrong+=1\n",
    "print(correct,wrong)\n",
    "print(correct/(correct+wrong))\n",
    "print('--------')"
   ]
  },
  {
   "cell_type": "markdown",
   "metadata": {
    "id": "D9w3bQtlUmoD"
   },
   "source": [
    "## Target to least Probable"
   ]
  },
  {
   "cell_type": "markdown",
   "metadata": {
    "id": "ZjiYR7KnWtAl"
   },
   "source": [
    "### On Naturalyy Trained"
   ]
  },
  {
   "cell_type": "code",
   "execution_count": null,
   "metadata": {
    "colab": {
     "base_uri": "https://localhost:8080/"
    },
    "id": "if298NNoUroT",
    "outputId": "08b9be68-03a6-4e1f-caa2-1efa4e2bb209"
   },
   "outputs": [
    {
     "name": "stdout",
     "output_type": "stream",
     "text": [
      "47 53\n",
      "0.47\n",
      "--------\n"
     ]
    }
   ],
   "source": [
    "attack_eps = 8/255\n",
    "\n",
    "wrong = 0\n",
    "correct = 0\n",
    "for i in range(len(org_images)):\n",
    "  image = org_images[i:i+1]\n",
    "  targets = org_labels[i:i+1]\n",
    "  eps = base_eps\n",
    "  outputs= net(image)\n",
    "  _, predicted = torch.max(outputs.data, 1)\n",
    "  outputs.data[0,targets[0]] = 1000\n",
    "  _, predicted = torch.min(outputs.data, 1)\n",
    "\n",
    "  perturbed_image,perturbation, outputs = targeted_fgsm(image,predicted,net,attack_eps)\n",
    "\n",
    "  # outputs= net(perturbed_image)\n",
    "  _, predicted = torch.max(outputs.data, 1)\n",
    "  if predicted==targets:\n",
    "    correct+=1\n",
    "  else:\n",
    "    wrong+=1\n",
    "print(correct,wrong)\n",
    "print(correct/(correct+wrong))\n",
    "print('--------')"
   ]
  },
  {
   "cell_type": "markdown",
   "metadata": {
    "id": "rKZCKdjuW6-5"
   },
   "source": [
    "### On adversarially Trained"
   ]
  },
  {
   "cell_type": "code",
   "execution_count": null,
   "metadata": {
    "colab": {
     "base_uri": "https://localhost:8080/"
    },
    "id": "6uXliZxbW__5",
    "outputId": "ca8c3c69-94a7-4c8f-d3f1-bb94f6ee04a9"
   },
   "outputs": [
    {
     "name": "stdout",
     "output_type": "stream",
     "text": [
      "90 10\n",
      "0.9\n",
      "--------\n"
     ]
    }
   ],
   "source": [
    "attack_eps = 8/255\n",
    "\n",
    "wrong = 0\n",
    "correct = 0\n",
    "for i in range(len(org_images)):\n",
    "  image = org_images[i:i+1]\n",
    "  targets = org_labels[i:i+1]\n",
    "  eps = base_eps\n",
    "  outputs= adv_net(image)\n",
    "\n",
    "  _, predicted = torch.max(outputs.data, 1)\n",
    "  outputs.data[0,targets[0]] = 1000\n",
    "  _, predicted = torch.min(outputs.data, 1)\n",
    "\n",
    "  perturbed_image,perturbation, outputs = targeted_fgsm(image,predicted,adv_net,attack_eps)\n",
    "\n",
    "  # outputs= adv_net(perturbed_image)\n",
    "  _, predicted = torch.max(outputs.data, 1)\n",
    "  if predicted==targets:\n",
    "    correct+=1\n",
    "  else:\n",
    "    wrong+=1\n",
    "print(correct,wrong)\n",
    "print(correct/(correct+wrong))\n",
    "print('--------')"
   ]
  },
  {
   "cell_type": "markdown",
   "metadata": {
    "id": "u9hwaCVf948-"
   },
   "source": [
    "# PGD "
   ]
  },
  {
   "cell_type": "code",
   "execution_count": 13,
   "metadata": {
    "id": "hrBN6uhG98bb"
   },
   "outputs": [],
   "source": [
    "def pgd(x, targets, net, epsilon, alpha, iter):\n",
    "    x.requires_grad = True\n",
    "    net.zero_grad()\n",
    "    perturbed_image = x.clone().detach().requires_grad_(True).to(x.device)\n",
    "    for i in range(iter):\n",
    "      _x_adv = perturbed_image.clone().detach().requires_grad_(True)\n",
    "      outputs = net(_x_adv)\n",
    "      loss = criterion(outputs, targets)\n",
    "      loss.backward()\n",
    "      data_grad = _x_adv.grad.data\n",
    "      sign_data_grad = data_grad.sign()\n",
    "      perturbation = alpha * sign_data_grad\n",
    "      perturbed_image = perturbed_image + perturbation\n",
    "      perturbed_image = torch.max(torch.min(perturbed_image, x + epsilon), x - epsilon)\n",
    "\n",
    "    outputs = net(perturbed_image)\n",
    "    perturbation = perturbed_image  - x \n",
    "    return perturbed_image, perturbation, outputs"
   ]
  },
  {
   "cell_type": "markdown",
   "metadata": {
    "id": "FDa2D9xFZKUd"
   },
   "source": [
    "## attacking FGSM advarsarialy trained model"
   ]
  },
  {
   "cell_type": "code",
   "execution_count": 20,
   "metadata": {
    "colab": {
     "base_uri": "https://localhost:8080/"
    },
    "id": "q_7MZkkmXcuu",
    "outputId": "664ee7c8-97c6-49fe-b9ff-77dbeb6d6942"
   },
   "outputs": [
    {
     "name": "stdout",
     "output_type": "stream",
     "text": [
      "iter: 3\n",
      "78 22\n",
      "0.78\n",
      "--------\n",
      "iter: 7\n",
      "77 23\n",
      "0.77\n",
      "--------\n",
      "iter: 12\n",
      "77 23\n",
      "0.77\n",
      "--------\n"
     ]
    }
   ],
   "source": [
    "attack_eps = 8/255\n",
    "alpha = 3/255\n",
    "iterations = [3,7,12]\n",
    "\n",
    "for iter in iterations:\n",
    "    wrong = 0\n",
    "    correct = 0\n",
    "    for i in range(len(org_images)):\n",
    "      image = org_images[i:i+1]\n",
    "      targets = org_labels[i:i+1]\n",
    "      perturbed_image,perturbation,last_outputs = pgd(image,targets,net,attack_eps,alpha,iter)\n",
    "      ouputs = adv_net(perturbed_image)\n",
    "      _, predicted = torch.max(last_outputs.data, 1)\n",
    "      if predicted==targets:\n",
    "        correct+=1\n",
    "      else:\n",
    "        wrong+=1\n",
    "    print('iter:',iter)\n",
    "    print(correct,wrong)\n",
    "    print(correct/(correct+wrong))\n",
    "    print('--------')"
   ]
  },
  {
   "cell_type": "markdown",
   "metadata": {
    "id": "xYbx8N552wq1"
   },
   "source": [
    "### with a fixed epsilon, attack accuracy does not change with increasing the number of steps when model is adversarially trained on same epsilon"
   ]
  },
  {
   "cell_type": "markdown",
   "metadata": {
    "id": "38_VJNuHc4qV"
   },
   "source": [
    "## PGD Adversarial Training"
   ]
  },
  {
   "cell_type": "code",
   "execution_count": null,
   "metadata": {
    "colab": {
     "base_uri": "https://localhost:8080/"
    },
    "id": "UEJUetzgdrEP",
    "outputId": "f6928a8c-0661-4e5f-8acc-b265b2f6e6a0"
   },
   "outputs": [
    {
     "name": "stdout",
     "output_type": "stream",
     "text": [
      "==> Building model..\n"
     ]
    }
   ],
   "source": [
    "# Model\n",
    "print('==> Building model..')\n",
    "pgd_adv_net = ResNet18()\n",
    "pgd_adv_net = pgd_adv_net.to(device)\n",
    "if device == 'cuda':\n",
    "    adv_net = torch.nn.DataParallel(pgd_adv_net)\n",
    "    cudnn.benchmark = True\n",
    "\n",
    "criterion = nn.CrossEntropyLoss()\n",
    "optimizer = optim.SGD(pgd_adv_net.parameters(), lr=lr,\n",
    "                      momentum=0.9, weight_decay=5e-4)\n",
    "scheduler = torch.optim.lr_scheduler.CosineAnnealingLR(optimizer, T_max=200)"
   ]
  },
  {
   "cell_type": "code",
   "execution_count": null,
   "metadata": {
    "colab": {
     "base_uri": "https://localhost:8080/"
    },
    "id": "EMx3BnsAc9Nt",
    "outputId": "0ef0eb7c-c85f-450b-d3b1-ee299672f1d3"
   },
   "outputs": [
    {
     "name": "stdout",
     "output_type": "stream",
     "text": [
      "\n",
      "Epoch: 0\n",
      "\n",
      "Epoch: 1\n",
      "\n",
      "Epoch: 2\n",
      "\n",
      "Epoch: 3\n",
      "\n",
      "Epoch: 4\n",
      "\n",
      "Epoch: 5\n",
      "\n",
      "Epoch: 6\n",
      "\n",
      "Epoch: 7\n",
      "\n",
      "Epoch: 8\n",
      "\n",
      "Epoch: 9\n",
      "\n",
      "Epoch: 10\n",
      "\n",
      "Epoch: 11\n",
      "\n",
      "Epoch: 12\n",
      "\n",
      "Epoch: 13\n",
      "\n",
      "Epoch: 14\n",
      "\n",
      "Epoch: 15\n",
      "\n",
      "Epoch: 16\n",
      "\n",
      "Epoch: 17\n",
      "\n",
      "Epoch: 18\n",
      "\n",
      "Epoch: 19\n",
      "\n",
      "Epoch: 20\n",
      "\n",
      "Epoch: 21\n",
      "\n",
      "Epoch: 22\n",
      "\n",
      "Epoch: 23\n",
      "\n",
      "Epoch: 24\n",
      "\n",
      "Epoch: 25\n",
      "\n",
      "Epoch: 26\n",
      "\n",
      "Epoch: 27\n",
      "\n",
      "Epoch: 28\n",
      "\n",
      "Epoch: 29\n",
      "\n",
      "Epoch: 30\n",
      "\n",
      "Epoch: 31\n",
      "\n",
      "Epoch: 32\n",
      "\n",
      "Epoch: 33\n",
      "\n",
      "Epoch: 34\n",
      "\n",
      "Epoch: 35\n",
      "\n",
      "Epoch: 36\n",
      "\n",
      "Epoch: 37\n",
      "\n",
      "Epoch: 38\n",
      "\n",
      "Epoch: 39\n",
      "Accuracy of the network on the test images: 88 %\n"
     ]
    }
   ],
   "source": [
    "alpha = 3/255\n",
    "iter = 3\n",
    "eps = 8/255\n",
    " \n",
    "# Training\n",
    "def pgd_adversarially_train(epoch):\n",
    "    print('\\nEpoch: %d' % epoch)\n",
    "    pgd_adv_net.train()\n",
    "    train_loss = 0\n",
    "    correct = 0\n",
    "    total = 0\n",
    "    for batch_idx, (inputs, targets) in enumerate(trainloader):\n",
    "        inputs, targets = inputs.to(device), targets.to(device)\n",
    "        perturbed_image,perturbation,outputs = pgd(inputs,targets,pgd_adv_net,eps,alpha,iter)\n",
    "        optimizer.zero_grad()\n",
    "        outputs = pgd_adv_net(perturbed_image)\n",
    "        loss = criterion(outputs, targets)\n",
    "        loss.backward()\n",
    "        optimizer.step()\n",
    "\n",
    "        train_loss += loss.item()\n",
    "        _, predicted = outputs.max(1)\n",
    "        total += targets.size(0)\n",
    "        correct += predicted.eq(targets).sum().item()\n",
    "    return train_loss\n",
    "\n",
    "\n",
    "def test(epoch):\n",
    "    global acc\n",
    "    pgd_adv_net.eval()\n",
    "    test_loss = 0\n",
    "    correct = 0\n",
    "    total = 0\n",
    "    with torch.no_grad():\n",
    "        for batch_idx, (inputs, targets) in enumerate(testloader):\n",
    "            inputs, targets = inputs.to(device), targets.to(device)\n",
    "            outputs = pgd_adv_net(inputs)\n",
    "            loss = criterion(outputs, targets)\n",
    "\n",
    "            test_loss += loss.item()\n",
    "            _, predicted = outputs.max(1)\n",
    "            total += targets.size(0)\n",
    "            correct += predicted.eq(targets).sum().item()\n",
    "    acc = 100 * correct / total\n",
    "    return test_loss\n",
    "\n",
    "train_losses = []\n",
    "test_losses = []\n",
    "\n",
    "for epoch in range(0,40):\n",
    "    trl = pgd_adversarially_train(epoch)\n",
    "    train_losses.append(trl)\n",
    "    tstl = test(epoch)\n",
    "    test_losses.append(tstl)\n",
    "    scheduler.step()\n",
    "\n",
    "print('Accuracy of the network on the test images: %d %%' % (acc))"
   ]
  },
  {
   "cell_type": "code",
   "execution_count": null,
   "metadata": {
    "colab": {
     "base_uri": "https://localhost:8080/",
     "height": 318
    },
    "id": "krEv_ZH9fYwn",
    "outputId": "56502348-bb4e-4e89-e6da-472be2c66a7e"
   },
   "outputs": [
    {
     "name": "stdout",
     "output_type": "stream",
     "text": [
      "[712.4171396493912, 585.202928185463, 509.2744505405426, 455.8710853457451, 413.5561571717262, 382.66447734832764, 360.3420544266701, 339.30218601226807, 322.61420011520386, 309.99897557497025, 295.13930028676987, 283.43946301937103, 274.9205283522606, 262.94341361522675, 254.54589837789536, 245.734818816185, 238.24096286296844, 231.8815034031868, 222.45921793580055, 218.13765877485275, 210.577204734087, 204.71133759617805, 197.641084253788, 192.08951473236084, 186.78997614979744, 181.83334547281265, 175.8451009094715, 171.23839968442917, 166.8286046385765, 161.84279081225395, 159.1534664183855, 153.108060836792, 147.67145358026028, 143.78370982408524, 139.94420562684536, 135.66052943468094, 133.384999781847, 130.37383134663105, 123.8320775181055, 122.47270733118057]\n",
      "[137.0699645280838, 114.1909339427948, 93.57810825109482, 83.82116740942001, 73.38765919208527, 67.01474085450172, 62.36912792921066, 57.74379462003708, 56.505678564310074, 55.57609283924103, 49.320122957229614, 57.70881888270378, 47.437878757715225, 47.00072303414345, 47.75988295674324, 43.2099524140358, 41.26032093167305, 40.266126453876495, 39.37146985530853, 40.71890750527382, 40.44389982521534, 38.197398632764816, 37.06913943588734, 38.022366881370544, 36.39236772060394, 35.55095984041691, 35.92111977934837, 34.2946405261755, 36.54315894842148, 34.87720729410648, 35.629572689533234, 33.31887912750244, 34.641860619187355, 32.94912615418434, 33.904673621058464, 35.454539105296135, 33.75990001857281, 33.017227947711945, 33.04189075529575, 34.647400200366974]\n"
     ]
    },
    {
     "data": {
      "image/png": "[encoded data removed]",
      "text/plain": [
       "<Figure size 432x288 with 1 Axes>"
      ]
     },
     "metadata": {
      "needs_background": "light",
      "tags": []
     },
     "output_type": "display_data"
    }
   ],
   "source": [
    "import matplotlib.pyplot as plt\n",
    "print(train_losses)\n",
    "print(test_losses)\n",
    "plt.plot(train_losses,label='train loss')\n",
    "plt.plot(test_losses,label='test loss')\n",
    "plt.ylabel('Loss value')\n",
    "plt.legend()\n",
    "plt.show()"
   ]
  },
  {
   "cell_type": "markdown",
   "metadata": {
    "id": "Lqan-rDx34Fy"
   },
   "source": [
    "### Train loss is bigger in pgd avd. training compared to natural traning"
   ]
  },
  {
   "cell_type": "markdown",
   "metadata": {
    "id": "mfV3sE9xeGmv"
   },
   "source": [
    "## Saving"
   ]
  },
  {
   "cell_type": "code",
   "execution_count": null,
   "metadata": {
    "id": "gm0dL15_eH4m"
   },
   "outputs": [],
   "source": [
    "torch.save({\n",
    "            'epoch': epoch,\n",
    "            'model_state_dict': pgd_adv_net.state_dict(),\n",
    "            'optimizer_state_dict': optimizer.state_dict(),\n",
    "            'loss': criterion,\n",
    "            }, 'pgd_adv_hw3_resnet')"
   ]
  },
  {
   "cell_type": "markdown",
   "metadata": {
    "id": "BQKL3zateVcu"
   },
   "source": [
    "## Loading"
   ]
  },
  {
   "cell_type": "code",
   "execution_count": 16,
   "metadata": {
    "colab": {
     "base_uri": "https://localhost:8080/"
    },
    "id": "8PPQbMjieW9d",
    "outputId": "318e6ac3-1090-4214-9549-21b5dd75ad44"
   },
   "outputs": [
    {
     "data": {
      "text/plain": [
       "ResNet(\n",
       "  (conv1): Conv2d(3, 64, kernel_size=(3, 3), stride=(1, 1), padding=(1, 1), bias=False)\n",
       "  (bn1): BatchNorm2d(64, eps=1e-05, momentum=0.1, affine=True, track_running_stats=True)\n",
       "  (layer1): Sequential(\n",
       "    (0): BasicBlock(\n",
       "      (conv1): Conv2d(64, 64, kernel_size=(3, 3), stride=(1, 1), padding=(1, 1), bias=False)\n",
       "      (bn1): BatchNorm2d(64, eps=1e-05, momentum=0.1, affine=True, track_running_stats=True)\n",
       "      (conv2): Conv2d(64, 64, kernel_size=(3, 3), stride=(1, 1), padding=(1, 1), bias=False)\n",
       "      (bn2): BatchNorm2d(64, eps=1e-05, momentum=0.1, affine=True, track_running_stats=True)\n",
       "      (shortcut): Sequential()\n",
       "    )\n",
       "    (1): BasicBlock(\n",
       "      (conv1): Conv2d(64, 64, kernel_size=(3, 3), stride=(1, 1), padding=(1, 1), bias=False)\n",
       "      (bn1): BatchNorm2d(64, eps=1e-05, momentum=0.1, affine=True, track_running_stats=True)\n",
       "      (conv2): Conv2d(64, 64, kernel_size=(3, 3), stride=(1, 1), padding=(1, 1), bias=False)\n",
       "      (bn2): BatchNorm2d(64, eps=1e-05, momentum=0.1, affine=True, track_running_stats=True)\n",
       "      (shortcut): Sequential()\n",
       "    )\n",
       "  )\n",
       "  (layer2): Sequential(\n",
       "    (0): BasicBlock(\n",
       "      (conv1): Conv2d(64, 128, kernel_size=(3, 3), stride=(2, 2), padding=(1, 1), bias=False)\n",
       "      (bn1): BatchNorm2d(128, eps=1e-05, momentum=0.1, affine=True, track_running_stats=True)\n",
       "      (conv2): Conv2d(128, 128, kernel_size=(3, 3), stride=(1, 1), padding=(1, 1), bias=False)\n",
       "      (bn2): BatchNorm2d(128, eps=1e-05, momentum=0.1, affine=True, track_running_stats=True)\n",
       "      (shortcut): Sequential(\n",
       "        (0): Conv2d(64, 128, kernel_size=(1, 1), stride=(2, 2), bias=False)\n",
       "        (1): BatchNorm2d(128, eps=1e-05, momentum=0.1, affine=True, track_running_stats=True)\n",
       "      )\n",
       "    )\n",
       "    (1): BasicBlock(\n",
       "      (conv1): Conv2d(128, 128, kernel_size=(3, 3), stride=(1, 1), padding=(1, 1), bias=False)\n",
       "      (bn1): BatchNorm2d(128, eps=1e-05, momentum=0.1, affine=True, track_running_stats=True)\n",
       "      (conv2): Conv2d(128, 128, kernel_size=(3, 3), stride=(1, 1), padding=(1, 1), bias=False)\n",
       "      (bn2): BatchNorm2d(128, eps=1e-05, momentum=0.1, affine=True, track_running_stats=True)\n",
       "      (shortcut): Sequential()\n",
       "    )\n",
       "  )\n",
       "  (layer3): Sequential(\n",
       "    (0): BasicBlock(\n",
       "      (conv1): Conv2d(128, 256, kernel_size=(3, 3), stride=(2, 2), padding=(1, 1), bias=False)\n",
       "      (bn1): BatchNorm2d(256, eps=1e-05, momentum=0.1, affine=True, track_running_stats=True)\n",
       "      (conv2): Conv2d(256, 256, kernel_size=(3, 3), stride=(1, 1), padding=(1, 1), bias=False)\n",
       "      (bn2): BatchNorm2d(256, eps=1e-05, momentum=0.1, affine=True, track_running_stats=True)\n",
       "      (shortcut): Sequential(\n",
       "        (0): Conv2d(128, 256, kernel_size=(1, 1), stride=(2, 2), bias=False)\n",
       "        (1): BatchNorm2d(256, eps=1e-05, momentum=0.1, affine=True, track_running_stats=True)\n",
       "      )\n",
       "    )\n",
       "    (1): BasicBlock(\n",
       "      (conv1): Conv2d(256, 256, kernel_size=(3, 3), stride=(1, 1), padding=(1, 1), bias=False)\n",
       "      (bn1): BatchNorm2d(256, eps=1e-05, momentum=0.1, affine=True, track_running_stats=True)\n",
       "      (conv2): Conv2d(256, 256, kernel_size=(3, 3), stride=(1, 1), padding=(1, 1), bias=False)\n",
       "      (bn2): BatchNorm2d(256, eps=1e-05, momentum=0.1, affine=True, track_running_stats=True)\n",
       "      (shortcut): Sequential()\n",
       "    )\n",
       "  )\n",
       "  (layer4): Sequential(\n",
       "    (0): BasicBlock(\n",
       "      (conv1): Conv2d(256, 512, kernel_size=(3, 3), stride=(2, 2), padding=(1, 1), bias=False)\n",
       "      (bn1): BatchNorm2d(512, eps=1e-05, momentum=0.1, affine=True, track_running_stats=True)\n",
       "      (conv2): Conv2d(512, 512, kernel_size=(3, 3), stride=(1, 1), padding=(1, 1), bias=False)\n",
       "      (bn2): BatchNorm2d(512, eps=1e-05, momentum=0.1, affine=True, track_running_stats=True)\n",
       "      (shortcut): Sequential(\n",
       "        (0): Conv2d(256, 512, kernel_size=(1, 1), stride=(2, 2), bias=False)\n",
       "        (1): BatchNorm2d(512, eps=1e-05, momentum=0.1, affine=True, track_running_stats=True)\n",
       "      )\n",
       "    )\n",
       "    (1): BasicBlock(\n",
       "      (conv1): Conv2d(512, 512, kernel_size=(3, 3), stride=(1, 1), padding=(1, 1), bias=False)\n",
       "      (bn1): BatchNorm2d(512, eps=1e-05, momentum=0.1, affine=True, track_running_stats=True)\n",
       "      (conv2): Conv2d(512, 512, kernel_size=(3, 3), stride=(1, 1), padding=(1, 1), bias=False)\n",
       "      (bn2): BatchNorm2d(512, eps=1e-05, momentum=0.1, affine=True, track_running_stats=True)\n",
       "      (shortcut): Sequential()\n",
       "    )\n",
       "  )\n",
       "  (linear): Linear(in_features=512, out_features=10, bias=True)\n",
       ")"
      ]
     },
     "execution_count": 16,
     "metadata": {
      "tags": []
     },
     "output_type": "execute_result"
    }
   ],
   "source": [
    "pgd_adv_net = ResNet18()\n",
    "pgd_adv_net = pgd_adv_net.to(device)\n",
    "if device == 'cuda':\n",
    "    net = torch.nn.DataParallel(pgd_adv_net)\n",
    "    cudnn.benchmark = True\n",
    "\n",
    "optimizer =optim.SGD(pgd_adv_net.parameters(), lr=lr,momentum=0.9, weight_decay=5e-4)\n",
    "scheduler = torch.optim.lr_scheduler.CosineAnnealingLR(optimizer, T_max=200)\n",
    "\n",
    "checkpoint = torch.load('pgd_adv_hw3_resnet')\n",
    "pgd_adv_net.load_state_dict(checkpoint['model_state_dict'])\n",
    "optimizer.load_state_dict(checkpoint['optimizer_state_dict'])\n",
    "epoch = checkpoint['epoch']\n",
    "criterion = checkpoint['loss']\n",
    "\n",
    "pgd_adv_net.eval()\n",
    "# - or -\n",
    "# model.train()"
   ]
  },
  {
   "cell_type": "markdown",
   "metadata": {
    "id": "wm4kagy10ozD"
   },
   "source": [
    "## Attacking PGD advarsarially trained model"
   ]
  },
  {
   "cell_type": "code",
   "execution_count": 19,
   "metadata": {
    "colab": {
     "base_uri": "https://localhost:8080/"
    },
    "id": "nF0QcYPR0t87",
    "outputId": "f81fc03f-d30a-4252-d9f7-1cbe7e14115f"
   },
   "outputs": [
    {
     "name": "stdout",
     "output_type": "stream",
     "text": [
      "iter: 3\n",
      "78 22\n",
      "0.78\n",
      "--------\n",
      "iter: 7\n",
      "77 23\n",
      "0.77\n",
      "--------\n",
      "iter: 12\n",
      "77 23\n",
      "0.77\n",
      "--------\n"
     ]
    }
   ],
   "source": [
    "attack_eps = 8/255\n",
    "alpha = 3/255\n",
    "iterations = [3,7,12]\n",
    "\n",
    "for iter in iterations:\n",
    "    wrong = 0\n",
    "    correct = 0\n",
    "    for i in range(len(org_images)):\n",
    "      image = org_images[i:i+1]\n",
    "      targets = org_labels[i:i+1]\n",
    "      perturbed_image,perturbation,last_outputs = pgd(image,targets,net,attack_eps,alpha,iter)\n",
    "      # print(torch.min(perturbed_image),torch.max(perturbed_image))\n",
    "      outputs = pgd_adv_net(perturbed_image)\n",
    "      _, predicted = torch.max(outputs.data, 1)\n",
    "      if predicted==targets:\n",
    "        correct+=1\n",
    "      else:\n",
    "        wrong+=1\n",
    "    print('iter:',iter)\n",
    "    print(correct,wrong)\n",
    "    print(correct/(correct+wrong))\n",
    "    print('--------')"
   ]
  },
  {
   "cell_type": "markdown",
   "metadata": {
    "id": "ckcGpS0e5YOj"
   },
   "source": []
  }
 ],
 "metadata": {
  "accelerator": "GPU",
  "colab": {
   "collapsed_sections": [],
   "name": "MLSecurity_HW3_completed.ipynb",
   "provenance": [],
   "toc_visible": true
  },
  "kernelspec": {
   "display_name": "Python 3",
   "language": "python",
   "name": "python3"
  },
  "language_info": {
   "codemirror_mode": {
    "name": "ipython",
    "version": 3
   },
   "file_extension": ".py",
   "mimetype": "text/x-python",
   "name": "python",
   "nbconvert_exporter": "python",
   "pygments_lexer": "ipython3",
   "version": "3.7.6"
  }
 },
 "nbformat": 4,
 "nbformat_minor": 1
}
